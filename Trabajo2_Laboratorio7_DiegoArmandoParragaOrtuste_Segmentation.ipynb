{
  "cells": [
    {
      "cell_type": "code",
      "execution_count": 1,
      "metadata": {
        "id": "403rTi9imMrd"
      },
      "outputs": [],
      "source": [
        "#importamos las librerias\n",
        "import torch\n",
        "import torchvision\n",
        "import os\n",
        "import matplotlib.pyplot as plt\n",
        "import numpy as np\n",
        "import pandas as pd\n",
        "import cv2\n",
        "from PIL import Image\n",
        "import random"
      ]
    },
    {
      "cell_type": "code",
      "execution_count": 2,
      "metadata": {
        "colab": {
          "base_uri": "https://localhost:8080/",
          "height": 36
        },
        "id": "nKx3F1pvmbV2",
        "outputId": "6aebcf65-ac03-4659-8a3e-b461eb887b8f"
      },
      "outputs": [
        {
          "data": {
            "text/plain": [
              "'cuda'"
            ]
          },
          "execution_count": 2,
          "metadata": {},
          "output_type": "execute_result"
        }
      ],
      "source": [
        "device = \"cuda\" if torch.cuda.is_available() else \"cpu\"\n",
        "device"
      ]
    },
    {
      "cell_type": "code",
      "execution_count": 3,
      "metadata": {
        "colab": {
          "base_uri": "https://localhost:8080/"
        },
        "id": "DiWJPUhKjf0H",
        "outputId": "3bb56cca-aac3-4d24-992e-dee8e93612b0"
      },
      "outputs": [
        {
          "name": "stdout",
          "output_type": "stream",
          "text": [
            "Mounted at /content/drive\n"
          ]
        }
      ],
      "source": [
        "from google.colab import drive\n",
        "drive.mount('/content/drive')"
      ]
    },
    {
      "cell_type": "code",
      "execution_count": 6,
      "metadata": {
        "colab": {
          "base_uri": "https://localhost:8080/"
        },
        "id": "Isnvu3EajhRX",
        "outputId": "058c00fd-5a7d-4644-a047-7b6de26b5c5e"
      },
      "outputs": [
        {
          "name": "stdout",
          "output_type": "stream",
          "text": [
            "¡Descompresión completada!\n"
          ]
        }
      ],
      "source": [
        "import zipfile\n",
        "\n",
        "# Ruta al archivo zip que deseas descomprimir\n",
        "zip_file_path = '/content/drive/MyDrive/DatasetPerros_B_S.zip'\n",
        "\n",
        "# Directorio de destino donde se extraerán los archivos\n",
        "extract_dir = '/content/extraido.zip'\n",
        "\n",
        "# Crear el directorio de destino si no existe\n",
        "os.makedirs(extract_dir, exist_ok=True)\n",
        "\n",
        "# Descomprimir el archivo zip\n",
        "with zipfile.ZipFile(zip_file_path, 'r') as zip_ref:\n",
        "    zip_ref.extractall(extract_dir)\n",
        "\n",
        "print(\"¡Descompresión completada!\")"
      ]
    },
    {
      "cell_type": "code",
      "execution_count": 3,
      "metadata": {
        "colab": {
          "base_uri": "https://localhost:8080/"
        },
        "id": "q6GU0YVfixPk",
        "outputId": "e1386be5-6b93-4626-892e-039356182f58"
      },
      "outputs": [
        {
          "name": "stdout",
          "output_type": "stream",
          "text": [
            "Propiedades de la imagen:\n",
            "(50, 50, 3) float32 1.0 0.0\n",
            "\n",
            "Propiedades de la máscara después de one-hot encoding:\n",
            "(50, 50, 9) float32 1.0 0.0\n"
          ]
        }
      ],
      "source": [
        "import numpy as np\n",
        "from PIL import Image\n",
        "import os\n",
        "\n",
        "def cargar_imagenes_y_mascaras(ruta_imagenes, ruta_mascaras):\n",
        "    imagenes = []\n",
        "    mascaras = []\n",
        "\n",
        "    clases = os.listdir(ruta_imagenes)  # Obtener la lista de clases desde la carpeta de imágenes\n",
        "\n",
        "    for clase in clases:\n",
        "        # Ruta a la carpeta de imágenes y máscaras de la clase actual\n",
        "        ruta_imagenes_clase = os.path.join(ruta_imagenes, clase)\n",
        "        ruta_mascaras_clase = os.path.join(ruta_mascaras, clase)\n",
        "\n",
        "        # Obtener la lista de imágenes en la carpeta de imágenes\n",
        "        imagenes_clase = os.listdir(ruta_imagenes_clase)\n",
        "\n",
        "        # Iterar sobre las imágenes en la carpeta de imágenes\n",
        "        for imagen_nombre in imagenes_clase:\n",
        "            imagen_ruta = os.path.join(ruta_imagenes_clase, imagen_nombre)\n",
        "            imagen = Image.open(imagen_ruta).convert('RGB')  # Convertir la imagen a RGB\n",
        "            imagen = np.array(imagen, dtype=np.float32) / 255.0  # Normalizar la imagen y convertirla a float32\n",
        "            imagenes.append(imagen)\n",
        "\n",
        "            # Construir la ruta de la máscara correspondiente a la imagen actual\n",
        "            mascara_nombre = imagen_nombre.split('.')[0] + '.png'  # Cambiar la extensión a .png\n",
        "            mascara_ruta = os.path.join(ruta_mascaras_clase, mascara_nombre)\n",
        "            # Verificar si la máscara existe\n",
        "            if os.path.exists(mascara_ruta):\n",
        "                # Si existe, cargar la máscara\n",
        "                mascara = Image.open(mascara_ruta)\n",
        "                # Aplicar one-hot encoding a las máscaras y agregar un canal para cada clase\n",
        "                mask_oh = (np.arange(len(clases) + 1) == np.array(mascara)[:, :, 0][..., None]).astype(np.float32)\n",
        "                mascaras.append(mask_oh)\n",
        "            else:\n",
        "                # Si no existe, imprimir un mensaje de advertencia y continuar con la siguiente imagen\n",
        "                print(f\"No se encontró la máscara para la imagen: {imagen_nombre}\")\n",
        "\n",
        "    return imagenes, mascaras\n",
        "\n",
        "\n",
        "# Rutas a las carpetas de imágenes y máscaras\n",
        "ruta_mascaras = 'DatasetPerros_B_S\\\\Mask'\n",
        "ruta_imagenes = 'DatasetPerros_B_S\\\\Perros_dataset'\n",
        "\n",
        "# Cargar imágenes y máscaras\n",
        "imagenes, mascaras = cargar_imagenes_y_mascaras(ruta_imagenes, ruta_mascaras)\n",
        "\n",
        "# Imprimir las propiedades de una imagen y una máscara\n",
        "img = imagenes[0]\n",
        "mask = mascaras[0]\n",
        "\n",
        "print(\"Propiedades de la imagen:\")\n",
        "print(img.shape, img.dtype, img.max(), img.min())\n",
        "\n",
        "print(\"\\nPropiedades de la máscara después de one-hot encoding:\")\n",
        "print(mask.shape, mask.dtype, mask.max(), mask.min())"
      ]
    },
    {
      "cell_type": "code",
      "execution_count": 4,
      "metadata": {
        "colab": {
          "base_uri": "https://localhost:8080/"
        },
        "id": "mZO69xHtkOe7",
        "outputId": "57e32d74-fc90-4439-d5ef-9b434d2c3d66"
      },
      "outputs": [
        {
          "data": {
            "text/plain": [
              "8000"
            ]
          },
          "execution_count": 4,
          "metadata": {},
          "output_type": "execute_result"
        }
      ],
      "source": [
        "len(mascaras)"
      ]
    },
    {
      "cell_type": "code",
      "execution_count": 5,
      "metadata": {
        "id": "Q2DHD46rixPv"
      },
      "outputs": [],
      "source": [
        "import torch.nn.functional as F\n",
        "\n",
        "def conv3x3_bn(ci, co):\n",
        "    return torch.nn.Sequential(\n",
        "        torch.nn.Conv2d(ci, co, 3, padding=1),\n",
        "        torch.nn.BatchNorm2d(co),\n",
        "        torch.nn.ReLU(inplace=True)\n",
        "    )\n",
        "\n",
        "def encoder_conv(ci, co):\n",
        "  return torch.nn.Sequential(\n",
        "        torch.nn.MaxPool2d(2),\n",
        "        conv3x3_bn(ci, co),\n",
        "        conv3x3_bn(co, co),\n",
        "    )\n",
        "\n",
        "class deconv(torch.nn.Module):\n",
        "    def __init__(self, ci, co):\n",
        "        super(deconv, self).__init__()\n",
        "        self.upsample = torch.nn.ConvTranspose2d(ci, co, 2, stride=2)\n",
        "        self.conv1 = conv3x3_bn(ci, co)\n",
        "        self.conv2 = conv3x3_bn(co, co)\n",
        "\n",
        "    # recibe la salida de la capa anetrior y la salida de la etapa\n",
        "    # correspondiente del encoder\n",
        "    def forward(self, x1, x2):\n",
        "        x1 = self.upsample(x1)\n",
        "        diffX = x2.size()[2] - x1.size()[2]\n",
        "        diffY = x2.size()[3] - x1.size()[3]\n",
        "        x1 = F.pad(x1, (diffX, 0, diffY, 0))\n",
        "        # concatenamos los tensores\n",
        "        x = torch.cat([x2, x1], dim=1)\n",
        "        x = self.conv1(x)\n",
        "        x = self.conv2(x)\n",
        "        return x\n",
        "\n",
        "class UNet(torch.nn.Module):\n",
        "    def __init__(self, n_classes=9, in_ch=3):\n",
        "        super().__init__()\n",
        "\n",
        "        # lista de capas en encoder-decoder con número de filtros\n",
        "        c = [16, 32, 64, 128]\n",
        "\n",
        "        # primera capa conv que recibe la imagen\n",
        "        self.conv1 = torch.nn.Sequential(\n",
        "          conv3x3_bn(in_ch, c[0]),\n",
        "          conv3x3_bn(c[0], c[0]),\n",
        "        )\n",
        "        # capas del encoder\n",
        "        self.conv2 = encoder_conv(c[0], c[1])\n",
        "        self.conv3 = encoder_conv(c[1], c[2])\n",
        "        self.conv4 = encoder_conv(c[2], c[3])\n",
        "\n",
        "        # capas del decoder\n",
        "        self.deconv1 = deconv(c[3],c[2])\n",
        "        self.deconv2 = deconv(c[2],c[1])\n",
        "        self.deconv3 = deconv(c[1],c[0])\n",
        "\n",
        "        # útlima capa conv que nos da la máscara\n",
        "        self.out = torch.nn.Conv2d(c[0], n_classes, 3, padding=1)\n",
        "\n",
        "    def forward(self, x):\n",
        "        # encoder\n",
        "        x1 = self.conv1(x)\n",
        "        x2 = self.conv2(x1)\n",
        "        x3 = self.conv3(x2)\n",
        "        x = self.conv4(x3)\n",
        "        # decoder\n",
        "        x = self.deconv1(x, x3)\n",
        "        x = self.deconv2(x, x2)\n",
        "        x = self.deconv3(x, x1)\n",
        "        x = self.out(x)\n",
        "        return x"
      ]
    },
    {
      "cell_type": "code",
      "execution_count": 6,
      "metadata": {
        "colab": {
          "base_uri": "https://localhost:8080/"
        },
        "id": "gv1jFNB6ixPy",
        "outputId": "1c69ede1-f6cb-49db-977f-7b9b90adef2d"
      },
      "outputs": [
        {
          "data": {
            "text/plain": [
              "torch.Size([10, 9, 50, 50])"
            ]
          },
          "execution_count": 6,
          "metadata": {},
          "output_type": "execute_result"
        }
      ],
      "source": [
        "model = UNet()\n",
        "output = model(torch.randn((10,3,50,50)))\n",
        "output.shape"
      ]
    },
    {
      "cell_type": "code",
      "execution_count": 9,
      "metadata": {
        "id": "Kaduk0hCixP1"
      },
      "outputs": [],
      "source": [
        "device = \"cuda\" if torch.cuda.is_available() else \"cpu\"\n",
        "\n",
        "def fit(model, X, y, epochs=1, lr=3e-4):\n",
        "    optimizer = torch.optim.Adam(model.parameters(), lr=lr)\n",
        "    criterion = torch.nn.BCEWithLogitsLoss()\n",
        "    model.to(device)\n",
        "    X, y = X.to(device), y.to(device)\n",
        "    model.train()\n",
        "    for epoch in range(1, epochs+1):\n",
        "        optimizer.zero_grad()\n",
        "        y_hat = model(X)\n",
        "        loss = criterion(y_hat, y)\n",
        "        loss.backward()\n",
        "        optimizer.step()\n",
        "        print(f\"Epoch {epoch}/{epochs} loss {loss.item():.5f}\")"
      ]
    },
    {
      "cell_type": "code",
      "execution_count": 10,
      "metadata": {
        "colab": {
          "base_uri": "https://localhost:8080/"
        },
        "id": "x9LpssPjixP2",
        "outputId": "cf34e031-1005-489b-9dee-219d813ce4ae"
      },
      "outputs": [
        {
          "data": {
            "text/plain": [
              "(torch.Size([1, 3, 50, 50]), torch.Size([1, 9, 50, 50]))"
            ]
          },
          "execution_count": 10,
          "metadata": {},
          "output_type": "execute_result"
        }
      ],
      "source": [
        "# Convertir la imagen a tipo float32\n",
        "img_tensor = torch.tensor(img).permute(2, 0, 1).unsqueeze(0)\n",
        "# Mantener las máscaras como uint8\n",
        "mask_tensor = torch.tensor(mask).permute(2, 0, 1).unsqueeze(0)\n",
        "\n",
        "img_tensor.shape, mask_tensor.shape"
      ]
    },
    {
      "cell_type": "code",
      "execution_count": 11,
      "metadata": {
        "colab": {
          "base_uri": "https://localhost:8080/"
        },
        "id": "46NaYEK3ixP4",
        "outputId": "7085b856-e996-4ab9-f0d4-68ca96eb76dc"
      },
      "outputs": [
        {
          "name": "stdout",
          "output_type": "stream",
          "text": [
            "Epoch 1/30 loss 0.71002\n",
            "Epoch 2/30 loss 0.69533\n",
            "Epoch 3/30 loss 0.68285\n",
            "Epoch 4/30 loss 0.67204\n",
            "Epoch 5/30 loss 0.66241\n",
            "Epoch 6/30 loss 0.65318\n",
            "Epoch 7/30 loss 0.64413\n",
            "Epoch 8/30 loss 0.63524\n",
            "Epoch 9/30 loss 0.62639\n",
            "Epoch 10/30 loss 0.61753\n",
            "Epoch 11/30 loss 0.60872\n",
            "Epoch 12/30 loss 0.59995\n",
            "Epoch 13/30 loss 0.59122\n",
            "Epoch 14/30 loss 0.58255\n",
            "Epoch 15/30 loss 0.57394\n",
            "Epoch 16/30 loss 0.56539\n",
            "Epoch 17/30 loss 0.55692\n",
            "Epoch 18/30 loss 0.54848\n",
            "Epoch 19/30 loss 0.54005\n",
            "Epoch 20/30 loss 0.53166\n",
            "Epoch 21/30 loss 0.52335\n",
            "Epoch 22/30 loss 0.51514\n",
            "Epoch 23/30 loss 0.50704\n",
            "Epoch 24/30 loss 0.49901\n",
            "Epoch 25/30 loss 0.49101\n",
            "Epoch 26/30 loss 0.48309\n",
            "Epoch 27/30 loss 0.47526\n",
            "Epoch 28/30 loss 0.46753\n",
            "Epoch 29/30 loss 0.45988\n",
            "Epoch 30/30 loss 0.45234\n"
          ]
        }
      ],
      "source": [
        "fit(model, img_tensor, mask_tensor, epochs=30)"
      ]
    },
    {
      "cell_type": "code",
      "execution_count": 12,
      "metadata": {
        "id": "AVbv9r-Ds0re"
      },
      "outputs": [],
      "source": [
        "def iou(outputs, labels):\n",
        "    # aplicar sigmoid y convertir a binario\n",
        "    outputs, labels = torch.sigmoid(outputs) > 0.5, labels > 0.5\n",
        "    SMOOTH = 1e-6\n",
        "    # BATCH x num_classes x H x W\n",
        "    B, N, H, W = outputs.shape\n",
        "    ious = []\n",
        "    for i in range(N-1): # saltamos el background\n",
        "        _out, _labs = outputs[:,i,:,:], labels[:,i,:,:]\n",
        "        intersection = (_out & _labs).float().sum((1, 2))\n",
        "        union = (_out | _labs).float().sum((1, 2))\n",
        "        iou = (intersection + SMOOTH) / (union + SMOOTH)\n",
        "        ious.append(iou.mean().item())\n",
        "    return np.mean(ious)"
      ]
    },
    {
      "cell_type": "code",
      "execution_count": 13,
      "metadata": {
        "id": "Ycpg4m_Ws2Db"
      },
      "outputs": [],
      "source": [
        "device = \"cuda\" if torch.cuda.is_available() else \"cpu\"\n",
        "def fit(model, X, y, epochs=1, lr=1e-3):\n",
        "    optimizer = torch.optim.Adam(model.parameters(), lr=lr)\n",
        "    criterion = torch.nn.BCEWithLogitsLoss()\n",
        "    model.to(device)\n",
        "    X, y = X.to(device), y.to(device)\n",
        "    model.train()\n",
        "    for epoch in range(1, epochs+1):\n",
        "        optimizer.zero_grad()\n",
        "        y_hat = model(X)\n",
        "        loss = criterion(y_hat, y)\n",
        "        loss.backward()\n",
        "        optimizer.step()\n",
        "        ious = iou(y_hat, y)\n",
        "        print(f\"Epoch {epoch}/{epochs} loss {loss.item():.5f} iou {ious:.5f}\")"
      ]
    },
    {
      "cell_type": "code",
      "execution_count": 14,
      "metadata": {
        "colab": {
          "base_uri": "https://localhost:8080/"
        },
        "id": "v6ILcon0s3no",
        "outputId": "2586256c-d2ca-47e9-f36b-0711d0a0af37"
      },
      "outputs": [
        {
          "name": "stdout",
          "output_type": "stream",
          "text": [
            "Epoch 1/30 loss 0.44489 iou 0.48280\n",
            "Epoch 2/30 loss 0.42052 iou 0.35857\n",
            "Epoch 3/30 loss 0.39678 iou 0.48544\n",
            "Epoch 4/30 loss 0.37388 iou 0.48599\n",
            "Epoch 5/30 loss 0.35290 iou 0.61144\n",
            "Epoch 6/30 loss 0.33261 iou 0.73768\n",
            "Epoch 7/30 loss 0.31359 iou 0.73757\n",
            "Epoch 8/30 loss 0.29563 iou 0.73785\n",
            "Epoch 9/30 loss 0.27863 iou 0.86354\n",
            "Epoch 10/30 loss 0.26264 iou 0.86434\n",
            "Epoch 11/30 loss 0.24751 iou 0.86463\n",
            "Epoch 12/30 loss 0.23328 iou 0.99022\n",
            "Epoch 13/30 loss 0.21995 iou 0.99123\n",
            "Epoch 14/30 loss 0.20737 iou 0.99164\n",
            "Epoch 15/30 loss 0.19561 iou 0.99142\n",
            "Epoch 16/30 loss 0.18457 iou 0.99183\n",
            "Epoch 17/30 loss 0.17423 iou 0.99223\n",
            "Epoch 18/30 loss 0.16455 iou 0.99253\n",
            "Epoch 19/30 loss 0.15545 iou 0.99283\n",
            "Epoch 20/30 loss 0.14698 iou 0.99314\n",
            "Epoch 21/30 loss 0.13906 iou 0.99354\n",
            "Epoch 22/30 loss 0.13169 iou 0.99384\n",
            "Epoch 23/30 loss 0.12480 iou 0.99416\n",
            "Epoch 24/30 loss 0.11840 iou 0.99447\n",
            "Epoch 25/30 loss 0.11241 iou 0.99488\n",
            "Epoch 26/30 loss 0.10683 iou 0.99519\n",
            "Epoch 27/30 loss 0.10161 iou 0.99519\n",
            "Epoch 28/30 loss 0.09677 iou 0.99519\n",
            "Epoch 29/30 loss 0.09223 iou 0.99519\n",
            "Epoch 30/30 loss 0.08800 iou 0.99561\n"
          ]
        }
      ],
      "source": [
        "fit(model, img_tensor, mask_tensor, epochs=30)"
      ]
    },
    {
      "cell_type": "code",
      "execution_count": 15,
      "metadata": {
        "colab": {
          "base_uri": "https://localhost:8080/",
          "height": 420
        },
        "id": "OMa35e1stAjo",
        "outputId": "9856ba04-0b46-4d22-e0b9-b2fdf32d7439"
      },
      "outputs": [
        {
          "data": {
            "image/png": "[encoded data removed]",
            "text/plain": [
              "<Figure size 3000x1000 with 3 Axes>"
            ]
          },
          "metadata": {},
          "output_type": "display_data"
        }
      ],
      "source": [
        "model.eval()\n",
        "with torch.no_grad():\n",
        "    output = model(img_tensor.to(device))[0]\n",
        "    pred_mask = torch.argmax(output, axis=0)\n",
        "\n",
        "fig, (ax1, ax2, ax3) = plt.subplots(1, 3, figsize=(30,10))\n",
        "ax1.imshow(img)\n",
        "binary_mask = np.argmax(mask, axis=-1)  # Selección de la clase con el valor más alto en cada píxel\n",
        "binary_mask = binary_mask.astype(np.uint8)\n",
        "ax2.imshow(binary_mask)\n",
        "ax3.imshow(pred_mask.squeeze().cpu().numpy())\n",
        "plt.show()"
      ]
    },
    {
      "cell_type": "code",
      "execution_count": 16,
      "metadata": {
        "colab": {
          "base_uri": "https://localhost:8080/"
        },
        "id": "NdRexZcuyWDj",
        "outputId": "0279b2d6-1e89-41c4-dadc-ccd9cf724861"
      },
      "outputs": [
        {
          "name": "stdout",
          "output_type": "stream",
          "text": [
            "Se han convertido y guardado 8000 archivos en la carpeta de destino.\n"
          ]
        }
      ],
      "source": [
        "import os\n",
        "import numpy as np\n",
        "from PIL import Image\n",
        "\n",
        "# Directorio que contiene las subcarpetas con las imágenes en formato PNG\n",
        "dir_principal = 'DatasetPerros_B_S\\\\Mask'\n",
        "\n",
        "# Directorio donde se guardarán los arreglos numpy\n",
        "dir_destino = 'PerrosDataset2\\\\mask'\n",
        "\n",
        "# Crear el directorio de destino si no existe\n",
        "os.makedirs(dir_destino, exist_ok=True)\n",
        "\n",
        "# Contador de archivos convertidos\n",
        "total_archivos = 0\n",
        "\n",
        "# Obtener la lista de subcarpetas en el directorio principal\n",
        "subcarpetas = [subcarpeta for subcarpeta in os.listdir(dir_principal) if os.path.isdir(os.path.join(dir_principal, subcarpeta))]\n",
        "\n",
        "# Iterar sobre las subcarpetas\n",
        "for subcarpeta in subcarpetas:\n",
        "    # Directorio que contiene las imágenes PNG de la subcarpeta actual\n",
        "    dir_imgs = os.path.join(dir_principal, subcarpeta)\n",
        "\n",
        "    # Obtener la lista de archivos PNG en la subcarpeta actual\n",
        "    archivos_png = [archivo for archivo in os.listdir(dir_imgs) if archivo.endswith('.png')]\n",
        "\n",
        "    # Iterar sobre los archivos PNG\n",
        "    for archivo_png in archivos_png:\n",
        "        # Ruta completa del archivo PNG\n",
        "        ruta_png = os.path.join(dir_imgs, archivo_png)\n",
        "\n",
        "        # Leer la imagen PNG\n",
        "        imagen = Image.open(ruta_png)\n",
        "\n",
        "        # Convertir la imagen a un arreglo numpy\n",
        "        arreglo_numpy = np.array(imagen)\n",
        "\n",
        "        # Ruta de destino para guardar el arreglo numpy\n",
        "        ruta_destino = os.path.join(dir_destino, archivo_png.split('.')[0] + '.npy')\n",
        "\n",
        "        # Guardar el arreglo numpy en el directorio de destino\n",
        "        np.save(ruta_destino, arreglo_numpy)\n",
        "\n",
        "        # Incrementar el contador de archivos\n",
        "        total_archivos += 1\n",
        "\n",
        "# Mostrar el número total de archivos convertidos\n",
        "print(f\"Se han convertido y guardado {total_archivos} archivos en la carpeta de destino.\")\n"
      ]
    },
    {
      "cell_type": "code",
      "execution_count": 17,
      "metadata": {
        "colab": {
          "base_uri": "https://localhost:8080/"
        },
        "id": "B72vLgfOzb4m",
        "outputId": "0939b39a-718c-4838-efde-5fef2e5b0282"
      },
      "outputs": [
        {
          "name": "stdout",
          "output_type": "stream",
          "text": [
            "Se han convertido y guardado 8000 archivos en la carpeta de destino.\n"
          ]
        }
      ],
      "source": [
        "import os\n",
        "import numpy as np\n",
        "from PIL import Image\n",
        "\n",
        "# Directorio que contiene las subcarpetas con las imágenes en formato PNG\n",
        "dir_principal = 'DatasetPerros_B_S\\\\Perros_dataset'\n",
        "\n",
        "# Directorio donde se guardarán los arreglos numpy\n",
        "dir_destino = 'PerrosDataset2\\\\Perros'\n",
        "\n",
        "# Crear el directorio de destino si no existe\n",
        "os.makedirs(dir_destino, exist_ok=True)\n",
        "\n",
        "# Contador de archivos convertidos\n",
        "total_archivos = 0\n",
        "\n",
        "# Obtener la lista de subcarpetas en el directorio principal\n",
        "subcarpetas = [subcarpeta for subcarpeta in os.listdir(dir_principal) if os.path.isdir(os.path.join(dir_principal, subcarpeta))]\n",
        "\n",
        "# Iterar sobre las subcarpetas\n",
        "for subcarpeta in subcarpetas:\n",
        "    # Directorio que contiene las imágenes PNG de la subcarpeta actual\n",
        "    dir_imgs = os.path.join(dir_principal, subcarpeta)\n",
        "\n",
        "    # Obtener la lista de archivos PNG en la subcarpeta actual\n",
        "    archivos_png = [archivo for archivo in os.listdir(dir_imgs) if archivo.endswith('.jpg')]\n",
        "\n",
        "    # Iterar sobre los archivos PNG\n",
        "    for archivo_png in archivos_png:\n",
        "        # Ruta completa del archivo PNG\n",
        "        ruta_png = os.path.join(dir_imgs, archivo_png)\n",
        "\n",
        "        # Leer la imagen PNG\n",
        "        imagen = Image.open(ruta_png)\n",
        "\n",
        "        # Convertir la imagen a un arreglo numpy\n",
        "        arreglo_numpy = np.array(imagen)\n",
        "\n",
        "        # Ruta de destino para guardar el arreglo numpy\n",
        "        ruta_destino = os.path.join(dir_destino, archivo_png.split('.')[0] + '.npy')\n",
        "\n",
        "        # Guardar el arreglo numpy en el directorio de destino\n",
        "        np.save(ruta_destino, arreglo_numpy)\n",
        "\n",
        "        # Incrementar el contador de archivos\n",
        "        total_archivos += 1\n",
        "\n",
        "# Mostrar el número total de archivos convertidos\n",
        "print(f\"Se han convertido y guardado {total_archivos} archivos en la carpeta de destino.\")"
      ]
    },
    {
      "cell_type": "code",
      "execution_count": 18,
      "metadata": {
        "colab": {
          "base_uri": "https://localhost:8080/"
        },
        "id": "BhZshAWo3tmm",
        "outputId": "f97907a9-dc61-4f4c-ad16-d6dba2370bc0"
      },
      "outputs": [
        {
          "name": "stdout",
          "output_type": "stream",
          "text": [
            "Forma del arreglo resultante: (8000, 3, 50, 50)\n"
          ]
        }
      ],
      "source": [
        "import os\n",
        "import numpy as np\n",
        "from PIL import Image\n",
        "\n",
        "# Directorio que contiene las subcarpetas con los arreglos numpy\n",
        "dir_destino = 'PerrosDataset2\\\\Perros'\n",
        "\n",
        "# Obtener la lista de archivos numpy en el directorio de destino\n",
        "archivos_npy = [archivo for archivo in os.listdir(dir_destino) if archivo.endswith('.npy')]\n",
        "\n",
        "# Lista para almacenar los arreglos numpy permutados\n",
        "arreglos_permutados = []\n",
        "\n",
        "# Iterar sobre los archivos numpy\n",
        "for archivo_npy in archivos_npy:\n",
        "    # Ruta completa del archivo numpy\n",
        "    ruta_npy = os.path.join(dir_destino, archivo_npy)\n",
        "\n",
        "    # Cargar el arreglo numpy\n",
        "    arreglo_numpy = np.load(ruta_npy)\n",
        "\n",
        "    # Permutar las dimensiones a (C, H, W)\n",
        "    arreglo_numpy_permutado = np.transpose(arreglo_numpy, (2, 0, 1))\n",
        "\n",
        "    # Agregar el arreglo permutado a la lista\n",
        "    arreglos_permutados.append(arreglo_numpy_permutado)\n",
        "\n",
        "# Convertir la lista de arreglos permutados a un solo arreglo numpy\n",
        "arreglos_permutados = np.array(arreglos_permutados)\n",
        "\n",
        "# Verificar la forma del arreglo resultante\n",
        "print(\"Forma del arreglo resultante:\", arreglos_permutados.shape)"
      ]
    },
    {
      "cell_type": "code",
      "execution_count": 19,
      "metadata": {
        "colab": {
          "base_uri": "https://localhost:8080/"
        },
        "id": "D5o-7WaHzvLI",
        "outputId": "4b939195-167a-49d5-e49c-a3245f829534"
      },
      "outputs": [
        {
          "data": {
            "text/plain": [
              "(8000, 8000, list, list)"
            ]
          },
          "execution_count": 19,
          "metadata": {},
          "output_type": "execute_result"
        }
      ],
      "source": [
        "import os\n",
        "from pathlib import Path\n",
        "\n",
        "from pathlib import Path\n",
        "import os\n",
        "\n",
        "# Directorio principal que contiene las subcarpetas con las imágenes y máscaras\n",
        "path = Path('./PerrosDataset2')\n",
        "\n",
        "# Obtener la lista de rutas de imágenes\n",
        "imgs = [path/'Perros'/i for i in os.listdir(path/'Perros')]\n",
        "\n",
        "# Obtener la lista de rutas de máscaras\n",
        "masks = [path/'mask'/i for i in os.listdir(path/'mask')]\n",
        "\n",
        "len(imgs), len(masks), type(imgs), type(masks)"
      ]
    },
    {
      "cell_type": "code",
      "execution_count": 20,
      "metadata": {
        "colab": {
          "base_uri": "https://localhost:8080/"
        },
        "id": "jW8shM-E2etB",
        "outputId": "68af7ef7-3771-48b5-9364-1f72464593dc"
      },
      "outputs": [
        {
          "data": {
            "text/plain": [
              "((50, 50, 3), (50, 50, 3))"
            ]
          },
          "execution_count": 20,
          "metadata": {},
          "output_type": "execute_result"
        }
      ],
      "source": [
        "img = np.load(imgs[0])\n",
        "mask = np.load(masks[0])\n",
        "\n",
        "img.shape, mask.shape"
      ]
    },
    {
      "cell_type": "code",
      "execution_count": 21,
      "metadata": {
        "id": "dcASHW4CviOx"
      },
      "outputs": [],
      "source": [
        "class Dataset(torch.utils.data.Dataset):\n",
        "    def __init__(self, X, y, n_classes=9):\n",
        "        self.X = X\n",
        "        self.y = y\n",
        "        self.n_classes = n_classes\n",
        "\n",
        "    def __len__(self):\n",
        "        return len(self.X)\n",
        "\n",
        "    def __getitem__(self, ix):\n",
        "        img = np.load(self.X[ix])\n",
        "        mask = np.load(self.y[ix])\n",
        "        img = torch.tensor(img).permute(2,0,1)\n",
        "\n",
        "        # Crear una máscara one-hot para cada clase\n",
        "        mask_one_hot = np.zeros((self.n_classes, *mask.shape[:2]), dtype=np.float32)\n",
        "        for i in range(self.n_classes):\n",
        "            mask_one_hot[i][mask[..., 0] == i] = 1\n",
        "\n",
        "        # Permutar las dimensiones de la máscara para que sea (C, H, W)\n",
        "        mask_one_hot = torch.from_numpy(mask_one_hot)\n",
        "        mask_one_hot = mask_one_hot.permute(0,1,2)\n",
        "\n",
        "        return img.float(), mask_one_hot"
      ]
    },
    {
      "cell_type": "code",
      "execution_count": 22,
      "metadata": {
        "colab": {
          "base_uri": "https://localhost:8080/"
        },
        "id": "yCP-3Mvyvjt8",
        "outputId": "ec13e929-35e5-4850-9e77-3d56e63a53b0"
      },
      "outputs": [
        {
          "data": {
            "text/plain": [
              "(6000, 2000)"
            ]
          },
          "execution_count": 22,
          "metadata": {},
          "output_type": "execute_result"
        }
      ],
      "source": [
        "# Tamaño del conjunto de prueba\n",
        "test_size = 2000\n",
        "\n",
        "# Dividir el conjunto de datos original en conjuntos de entrenamiento y prueba\n",
        "imagenes_train = imgs[:-test_size]\n",
        "masks_train = masks[:-test_size]\n",
        "imagenes_test = imgs[-test_size:]\n",
        "masks_test = masks[-test_size:]\n",
        "\n",
        "# Crear el diccionario de datasets\n",
        "dataset = {\n",
        "    'train': Dataset(imagenes_train, masks_train),\n",
        "    'test': Dataset(imagenes_test, masks_test)\n",
        "}\n",
        "\n",
        "# Verificar la longitud de los conjuntos de entrenamiento y prueba\n",
        "len(dataset['train']), len(dataset['test'])"
      ]
    },
    {
      "cell_type": "code",
      "execution_count": 23,
      "metadata": {
        "colab": {
          "base_uri": "https://localhost:8080/"
        },
        "id": "f-yA5vEh1Lyo",
        "outputId": "77f471c4-e92b-49e3-cab3-6bf3eef4029d"
      },
      "outputs": [
        {
          "data": {
            "text/plain": [
              "(torch.Size([16, 3, 50, 50]), torch.Size([16, 9, 50, 50]))"
            ]
          },
          "execution_count": 23,
          "metadata": {},
          "output_type": "execute_result"
        }
      ],
      "source": [
        "import torch\n",
        "from torch.utils.data import DataLoader\n",
        "\n",
        "dataloader = {\n",
        "    'train': torch.utils.data.DataLoader(dataset['train'], batch_size=16, shuffle=True, pin_memory=True),\n",
        "    'test': torch.utils.data.DataLoader(dataset['test'], batch_size=32, pin_memory=True)\n",
        "}\n",
        "\n",
        "# Obtén un lote de datos de entrenamiento\n",
        "imgs, masks = next(iter(dataloader['train']))\n",
        "\n",
        "# Asegúrate de que las dimensiones sean las correctas\n",
        "imgs.shape, masks.shape"
      ]
    },
    {
      "cell_type": "code",
      "execution_count": 24,
      "metadata": {
        "id": "sjzeqaEB7dDe"
      },
      "outputs": [],
      "source": [
        "from tqdm import tqdm\n",
        "device = \"cuda\" if torch.cuda.is_available() else \"cpu\"\n",
        "def fit(model, dataloader, epochs=100, lr=3e-4):\n",
        "    optimizer = torch.optim.Adam(model.parameters(), lr=lr)\n",
        "    criterion = torch.nn.BCEWithLogitsLoss()\n",
        "    model.to(device)\n",
        "    hist = {'loss': [], 'iou': [], 'test_loss': [], 'test_iou': []}\n",
        "    for epoch in range(1, epochs+1):\n",
        "      bar = tqdm(dataloader['train'])\n",
        "      train_loss, train_iou = [], []\n",
        "      model.train()\n",
        "      for imgs, masks in bar:\n",
        "        imgs, masks = imgs.to(device), masks.to(device)\n",
        "        optimizer.zero_grad()\n",
        "        y_hat = model(imgs)\n",
        "        loss = criterion(y_hat, masks)\n",
        "        loss.backward()\n",
        "        optimizer.step()\n",
        "        ious = iou(y_hat, masks)\n",
        "        train_loss.append(loss.item())\n",
        "        train_iou.append(ious)\n",
        "        bar.set_description(f\"loss {np.mean(train_loss):.5f} iou {np.mean(train_iou):.5f}\")\n",
        "      hist['loss'].append(np.mean(train_loss))\n",
        "      hist['iou'].append(np.mean(train_iou))\n",
        "      bar = tqdm(dataloader['test'])\n",
        "      test_loss, test_iou = [], []\n",
        "      model.eval()\n",
        "      with torch.no_grad():\n",
        "        for imgs, masks in bar:\n",
        "          imgs, masks = imgs.to(device), masks.to(device)\n",
        "          y_hat = model(imgs)\n",
        "          loss = criterion(y_hat, masks)\n",
        "          ious = iou(y_hat, masks)\n",
        "          test_loss.append(loss.item())\n",
        "          test_iou.append(ious)\n",
        "          bar.set_description(f\"test_loss {np.mean(test_loss):.5f} test_iou {np.mean(test_iou):.5f}\")\n",
        "      hist['test_loss'].append(np.mean(test_loss))\n",
        "      hist['test_iou'].append(np.mean(test_iou))\n",
        "      print(f\"\\nEpoch {epoch}/{epochs} loss {np.mean(train_loss):.5f} iou {np.mean(train_iou):.5f} test_loss {np.mean(test_loss):.5f} test_iou {np.mean(test_iou):.5f}\")\n",
        "    return hist"
      ]
    },
    {
      "cell_type": "code",
      "execution_count": 25,
      "metadata": {
        "colab": {
          "base_uri": "https://localhost:8080/"
        },
        "id": "w1fmUxk97e4w",
        "outputId": "07d60b09-7251-40d7-9248-09fda7cb1bc8"
      },
      "outputs": [
        {
          "name": "stderr",
          "output_type": "stream",
          "text": [
            "loss 0.17196 iou 0.86376: 100%|██████████| 375/375 [00:44<00:00,  8.44it/s]\n",
            "test_loss 0.05439 test_iou 0.97559: 100%|██████████| 63/63 [00:12<00:00,  4.89it/s]\n"
          ]
        },
        {
          "name": "stdout",
          "output_type": "stream",
          "text": [
            "\n",
            "Epoch 1/20 loss 0.17196 iou 0.86376 test_loss 0.05439 test_iou 0.97559\n"
          ]
        },
        {
          "name": "stderr",
          "output_type": "stream",
          "text": [
            "loss 0.04137 iou 0.97875: 100%|██████████| 375/375 [00:08<00:00, 42.19it/s]\n",
            "test_loss 0.04460 test_iou 0.97623: 100%|██████████| 63/63 [00:01<00:00, 34.93it/s]\n"
          ]
        },
        {
          "name": "stdout",
          "output_type": "stream",
          "text": [
            "\n",
            "Epoch 2/20 loss 0.04137 iou 0.97875 test_loss 0.04460 test_iou 0.97623\n"
          ]
        },
        {
          "name": "stderr",
          "output_type": "stream",
          "text": [
            "loss 0.03215 iou 0.98027: 100%|██████████| 375/375 [00:09<00:00, 41.04it/s]\n",
            "test_loss 0.03374 test_iou 0.97871: 100%|██████████| 63/63 [00:01<00:00, 34.79it/s]\n"
          ]
        },
        {
          "name": "stdout",
          "output_type": "stream",
          "text": [
            "\n",
            "Epoch 3/20 loss 0.03215 iou 0.98027 test_loss 0.03374 test_iou 0.97871\n"
          ]
        },
        {
          "name": "stderr",
          "output_type": "stream",
          "text": [
            "loss 0.02895 iou 0.98106: 100%|██████████| 375/375 [00:09<00:00, 40.36it/s]\n",
            "test_loss 0.03062 test_iou 0.97912: 100%|██████████| 63/63 [00:01<00:00, 34.78it/s]\n"
          ]
        },
        {
          "name": "stdout",
          "output_type": "stream",
          "text": [
            "\n",
            "Epoch 4/20 loss 0.02895 iou 0.98106 test_loss 0.03062 test_iou 0.97912\n"
          ]
        },
        {
          "name": "stderr",
          "output_type": "stream",
          "text": [
            "loss 0.02678 iou 0.98189: 100%|██████████| 375/375 [00:08<00:00, 42.24it/s]\n",
            "test_loss 0.02941 test_iou 0.97998: 100%|██████████| 63/63 [00:01<00:00, 34.87it/s]\n"
          ]
        },
        {
          "name": "stdout",
          "output_type": "stream",
          "text": [
            "\n",
            "Epoch 5/20 loss 0.02678 iou 0.98189 test_loss 0.02941 test_iou 0.97998\n"
          ]
        },
        {
          "name": "stderr",
          "output_type": "stream",
          "text": [
            "loss 0.02532 iou 0.98260: 100%|██████████| 375/375 [00:09<00:00, 41.39it/s]\n",
            "test_loss 0.03317 test_iou 0.97902: 100%|██████████| 63/63 [00:01<00:00, 35.14it/s]\n"
          ]
        },
        {
          "name": "stdout",
          "output_type": "stream",
          "text": [
            "\n",
            "Epoch 6/20 loss 0.02532 iou 0.98260 test_loss 0.03317 test_iou 0.97902\n"
          ]
        },
        {
          "name": "stderr",
          "output_type": "stream",
          "text": [
            "loss 0.02393 iou 0.98316: 100%|██████████| 375/375 [00:08<00:00, 41.84it/s]\n",
            "test_loss 0.03042 test_iou 0.97982: 100%|██████████| 63/63 [00:01<00:00, 34.99it/s]\n"
          ]
        },
        {
          "name": "stdout",
          "output_type": "stream",
          "text": [
            "\n",
            "Epoch 7/20 loss 0.02393 iou 0.98316 test_loss 0.03042 test_iou 0.97982\n"
          ]
        },
        {
          "name": "stderr",
          "output_type": "stream",
          "text": [
            "loss 0.02264 iou 0.98393: 100%|██████████| 375/375 [00:08<00:00, 41.83it/s]\n",
            "test_loss 0.03094 test_iou 0.97964: 100%|██████████| 63/63 [00:01<00:00, 34.55it/s]\n"
          ]
        },
        {
          "name": "stdout",
          "output_type": "stream",
          "text": [
            "\n",
            "Epoch 8/20 loss 0.02264 iou 0.98393 test_loss 0.03094 test_iou 0.97964\n"
          ]
        },
        {
          "name": "stderr",
          "output_type": "stream",
          "text": [
            "loss 0.02123 iou 0.98477: 100%|██████████| 375/375 [00:09<00:00, 41.58it/s]\n",
            "test_loss 0.03433 test_iou 0.97883: 100%|██████████| 63/63 [00:01<00:00, 35.47it/s]\n"
          ]
        },
        {
          "name": "stdout",
          "output_type": "stream",
          "text": [
            "\n",
            "Epoch 9/20 loss 0.02123 iou 0.98477 test_loss 0.03433 test_iou 0.97883\n"
          ]
        },
        {
          "name": "stderr",
          "output_type": "stream",
          "text": [
            "loss 0.02022 iou 0.98533: 100%|██████████| 375/375 [00:09<00:00, 41.53it/s]\n",
            "test_loss 0.03029 test_iou 0.98035: 100%|██████████| 63/63 [00:01<00:00, 33.18it/s]\n"
          ]
        },
        {
          "name": "stdout",
          "output_type": "stream",
          "text": [
            "\n",
            "Epoch 10/20 loss 0.02022 iou 0.98533 test_loss 0.03029 test_iou 0.98035\n"
          ]
        },
        {
          "name": "stderr",
          "output_type": "stream",
          "text": [
            "loss 0.01930 iou 0.98592: 100%|██████████| 375/375 [00:09<00:00, 40.99it/s]\n",
            "test_loss 0.03005 test_iou 0.98015: 100%|██████████| 63/63 [00:01<00:00, 34.82it/s]\n"
          ]
        },
        {
          "name": "stdout",
          "output_type": "stream",
          "text": [
            "\n",
            "Epoch 11/20 loss 0.01930 iou 0.98592 test_loss 0.03005 test_iou 0.98015\n"
          ]
        },
        {
          "name": "stderr",
          "output_type": "stream",
          "text": [
            "loss 0.01862 iou 0.98640: 100%|██████████| 375/375 [00:09<00:00, 41.16it/s]\n",
            "test_loss 0.03040 test_iou 0.98042: 100%|██████████| 63/63 [00:01<00:00, 34.63it/s]\n"
          ]
        },
        {
          "name": "stdout",
          "output_type": "stream",
          "text": [
            "\n",
            "Epoch 12/20 loss 0.01862 iou 0.98640 test_loss 0.03040 test_iou 0.98042\n"
          ]
        },
        {
          "name": "stderr",
          "output_type": "stream",
          "text": [
            "loss 0.01754 iou 0.98706: 100%|██████████| 375/375 [00:09<00:00, 41.44it/s]\n",
            "test_loss 0.03145 test_iou 0.98006: 100%|██████████| 63/63 [00:01<00:00, 34.36it/s]\n"
          ]
        },
        {
          "name": "stdout",
          "output_type": "stream",
          "text": [
            "\n",
            "Epoch 13/20 loss 0.01754 iou 0.98706 test_loss 0.03145 test_iou 0.98006\n"
          ]
        },
        {
          "name": "stderr",
          "output_type": "stream",
          "text": [
            "loss 0.01676 iou 0.98756: 100%|██████████| 375/375 [00:09<00:00, 40.56it/s]\n",
            "test_loss 0.03236 test_iou 0.98024: 100%|██████████| 63/63 [00:01<00:00, 34.96it/s]\n"
          ]
        },
        {
          "name": "stdout",
          "output_type": "stream",
          "text": [
            "\n",
            "Epoch 14/20 loss 0.01676 iou 0.98756 test_loss 0.03236 test_iou 0.98024\n"
          ]
        },
        {
          "name": "stderr",
          "output_type": "stream",
          "text": [
            "loss 0.01608 iou 0.98800: 100%|██████████| 375/375 [00:09<00:00, 41.50it/s]\n",
            "test_loss 0.03242 test_iou 0.98030: 100%|██████████| 63/63 [00:01<00:00, 36.47it/s]\n"
          ]
        },
        {
          "name": "stdout",
          "output_type": "stream",
          "text": [
            "\n",
            "Epoch 15/20 loss 0.01608 iou 0.98800 test_loss 0.03242 test_iou 0.98030\n"
          ]
        },
        {
          "name": "stderr",
          "output_type": "stream",
          "text": [
            "loss 0.01585 iou 0.98816: 100%|██████████| 375/375 [00:08<00:00, 41.86it/s]\n",
            "test_loss 0.03364 test_iou 0.97921: 100%|██████████| 63/63 [00:01<00:00, 33.54it/s]\n"
          ]
        },
        {
          "name": "stdout",
          "output_type": "stream",
          "text": [
            "\n",
            "Epoch 16/20 loss 0.01585 iou 0.98816 test_loss 0.03364 test_iou 0.97921\n"
          ]
        },
        {
          "name": "stderr",
          "output_type": "stream",
          "text": [
            "loss 0.01524 iou 0.98855: 100%|██████████| 375/375 [00:09<00:00, 40.38it/s]\n",
            "test_loss 0.03142 test_iou 0.98028: 100%|██████████| 63/63 [00:01<00:00, 36.60it/s]\n"
          ]
        },
        {
          "name": "stdout",
          "output_type": "stream",
          "text": [
            "\n",
            "Epoch 17/20 loss 0.01524 iou 0.98855 test_loss 0.03142 test_iou 0.98028\n"
          ]
        },
        {
          "name": "stderr",
          "output_type": "stream",
          "text": [
            "loss 0.01474 iou 0.98887: 100%|██████████| 375/375 [00:08<00:00, 42.38it/s]\n",
            "test_loss 0.03289 test_iou 0.98002: 100%|██████████| 63/63 [00:01<00:00, 35.17it/s]\n"
          ]
        },
        {
          "name": "stdout",
          "output_type": "stream",
          "text": [
            "\n",
            "Epoch 18/20 loss 0.01474 iou 0.98887 test_loss 0.03289 test_iou 0.98002\n"
          ]
        },
        {
          "name": "stderr",
          "output_type": "stream",
          "text": [
            "loss 0.01408 iou 0.98933: 100%|██████████| 375/375 [00:08<00:00, 41.70it/s]\n",
            "test_loss 0.03489 test_iou 0.97974: 100%|██████████| 63/63 [00:01<00:00, 34.83it/s]\n"
          ]
        },
        {
          "name": "stdout",
          "output_type": "stream",
          "text": [
            "\n",
            "Epoch 19/20 loss 0.01408 iou 0.98933 test_loss 0.03489 test_iou 0.97974\n"
          ]
        },
        {
          "name": "stderr",
          "output_type": "stream",
          "text": [
            "loss 0.01406 iou 0.98932: 100%|██████████| 375/375 [00:09<00:00, 41.25it/s]\n",
            "test_loss 0.03360 test_iou 0.97925: 100%|██████████| 63/63 [00:01<00:00, 34.80it/s]"
          ]
        },
        {
          "name": "stdout",
          "output_type": "stream",
          "text": [
            "\n",
            "Epoch 20/20 loss 0.01406 iou 0.98932 test_loss 0.03360 test_iou 0.97925\n"
          ]
        },
        {
          "name": "stderr",
          "output_type": "stream",
          "text": [
            "\n"
          ]
        }
      ],
      "source": [
        "model = UNet()\n",
        "hist = fit(model, dataloader, epochs=20),device"
      ]
    },
    {
      "cell_type": "code",
      "execution_count": 29,
      "metadata": {
        "colab": {
          "base_uri": "https://localhost:8080/",
          "height": 430
        },
        "id": "wvOypVIP7gvJ",
        "outputId": "115499c5-5dfe-4c36-c519-4d2ffee9c0c7"
      },
      "outputs": [
        {
          "ename": "AttributeError",
          "evalue": "'str' object has no attribute 'keys'",
          "output_type": "error",
          "traceback": [
            "\u001b[1;31m---------------------------------------------------------------------------\u001b[0m",
            "\u001b[1;31mAttributeError\u001b[0m                            Traceback (most recent call last)",
            "Cell \u001b[1;32mIn[29], line 2\u001b[0m\n\u001b[0;32m      1\u001b[0m \u001b[38;5;28;01mimport\u001b[39;00m \u001b[38;5;21;01mpandas\u001b[39;00m \u001b[38;5;28;01mas\u001b[39;00m \u001b[38;5;21;01mpd\u001b[39;00m\n\u001b[1;32m----> 2\u001b[0m df \u001b[38;5;241m=\u001b[39m \u001b[43mpd\u001b[49m\u001b[38;5;241;43m.\u001b[39;49m\u001b[43mDataFrame\u001b[49m\u001b[43m(\u001b[49m\u001b[43mhist\u001b[49m\u001b[43m)\u001b[49m\n\u001b[0;32m      3\u001b[0m df\u001b[38;5;241m.\u001b[39mplot(grid\u001b[38;5;241m=\u001b[39m\u001b[38;5;28;01mTrue\u001b[39;00m)\n\u001b[0;32m      4\u001b[0m plt\u001b[38;5;241m.\u001b[39mshow()\n",
            "File \u001b[1;32mc:\\Users\\Diego-pc\\AppData\\Local\\Programs\\Python\\Python312\\Lib\\site-packages\\pandas\\core\\frame.py:840\u001b[0m, in \u001b[0;36mDataFrame.__init__\u001b[1;34m(self, data, index, columns, dtype, copy)\u001b[0m\n\u001b[0;32m    838\u001b[0m     \u001b[38;5;28;01mif\u001b[39;00m columns \u001b[38;5;129;01mis\u001b[39;00m \u001b[38;5;129;01mnot\u001b[39;00m \u001b[38;5;28;01mNone\u001b[39;00m:\n\u001b[0;32m    839\u001b[0m         columns \u001b[38;5;241m=\u001b[39m ensure_index(columns)\n\u001b[1;32m--> 840\u001b[0m     arrays, columns, index \u001b[38;5;241m=\u001b[39m \u001b[43mnested_data_to_arrays\u001b[49m\u001b[43m(\u001b[49m\n\u001b[0;32m    841\u001b[0m \u001b[43m        \u001b[49m\u001b[38;5;66;43;03m# error: Argument 3 to \"nested_data_to_arrays\" has incompatible\u001b[39;49;00m\n\u001b[0;32m    842\u001b[0m \u001b[43m        \u001b[49m\u001b[38;5;66;43;03m# type \"Optional[Collection[Any]]\"; expected \"Optional[Index]\"\u001b[39;49;00m\n\u001b[0;32m    843\u001b[0m \u001b[43m        \u001b[49m\u001b[43mdata\u001b[49m\u001b[43m,\u001b[49m\n\u001b[0;32m    844\u001b[0m \u001b[43m        \u001b[49m\u001b[43mcolumns\u001b[49m\u001b[43m,\u001b[49m\n\u001b[0;32m    845\u001b[0m \u001b[43m        \u001b[49m\u001b[43mindex\u001b[49m\u001b[43m,\u001b[49m\u001b[43m  \u001b[49m\u001b[38;5;66;43;03m# type: ignore[arg-type]\u001b[39;49;00m\n\u001b[0;32m    846\u001b[0m \u001b[43m        \u001b[49m\u001b[43mdtype\u001b[49m\u001b[43m,\u001b[49m\n\u001b[0;32m    847\u001b[0m \u001b[43m    \u001b[49m\u001b[43m)\u001b[49m\n\u001b[0;32m    848\u001b[0m     mgr \u001b[38;5;241m=\u001b[39m arrays_to_mgr(\n\u001b[0;32m    849\u001b[0m         arrays,\n\u001b[0;32m    850\u001b[0m         columns,\n\u001b[1;32m   (...)\u001b[0m\n\u001b[0;32m    853\u001b[0m         typ\u001b[38;5;241m=\u001b[39mmanager,\n\u001b[0;32m    854\u001b[0m     )\n\u001b[0;32m    855\u001b[0m \u001b[38;5;28;01melse\u001b[39;00m:\n",
            "File \u001b[1;32mc:\\Users\\Diego-pc\\AppData\\Local\\Programs\\Python\\Python312\\Lib\\site-packages\\pandas\\core\\internals\\construction.py:520\u001b[0m, in \u001b[0;36mnested_data_to_arrays\u001b[1;34m(data, columns, index, dtype)\u001b[0m\n\u001b[0;32m    517\u001b[0m \u001b[38;5;28;01mif\u001b[39;00m is_named_tuple(data[\u001b[38;5;241m0\u001b[39m]) \u001b[38;5;129;01mand\u001b[39;00m columns \u001b[38;5;129;01mis\u001b[39;00m \u001b[38;5;28;01mNone\u001b[39;00m:\n\u001b[0;32m    518\u001b[0m     columns \u001b[38;5;241m=\u001b[39m ensure_index(data[\u001b[38;5;241m0\u001b[39m]\u001b[38;5;241m.\u001b[39m_fields)\n\u001b[1;32m--> 520\u001b[0m arrays, columns \u001b[38;5;241m=\u001b[39m \u001b[43mto_arrays\u001b[49m\u001b[43m(\u001b[49m\u001b[43mdata\u001b[49m\u001b[43m,\u001b[49m\u001b[43m \u001b[49m\u001b[43mcolumns\u001b[49m\u001b[43m,\u001b[49m\u001b[43m \u001b[49m\u001b[43mdtype\u001b[49m\u001b[38;5;241;43m=\u001b[39;49m\u001b[43mdtype\u001b[49m\u001b[43m)\u001b[49m\n\u001b[0;32m    521\u001b[0m columns \u001b[38;5;241m=\u001b[39m ensure_index(columns)\n\u001b[0;32m    523\u001b[0m \u001b[38;5;28;01mif\u001b[39;00m index \u001b[38;5;129;01mis\u001b[39;00m \u001b[38;5;28;01mNone\u001b[39;00m:\n",
            "File \u001b[1;32mc:\\Users\\Diego-pc\\AppData\\Local\\Programs\\Python\\Python312\\Lib\\site-packages\\pandas\\core\\internals\\construction.py:837\u001b[0m, in \u001b[0;36mto_arrays\u001b[1;34m(data, columns, dtype)\u001b[0m\n\u001b[0;32m    835\u001b[0m     arr \u001b[38;5;241m=\u001b[39m _list_to_arrays(data)\n\u001b[0;32m    836\u001b[0m \u001b[38;5;28;01melif\u001b[39;00m \u001b[38;5;28misinstance\u001b[39m(data[\u001b[38;5;241m0\u001b[39m], abc\u001b[38;5;241m.\u001b[39mMapping):\n\u001b[1;32m--> 837\u001b[0m     arr, columns \u001b[38;5;241m=\u001b[39m \u001b[43m_list_of_dict_to_arrays\u001b[49m\u001b[43m(\u001b[49m\u001b[43mdata\u001b[49m\u001b[43m,\u001b[49m\u001b[43m \u001b[49m\u001b[43mcolumns\u001b[49m\u001b[43m)\u001b[49m\n\u001b[0;32m    838\u001b[0m \u001b[38;5;28;01melif\u001b[39;00m \u001b[38;5;28misinstance\u001b[39m(data[\u001b[38;5;241m0\u001b[39m], ABCSeries):\n\u001b[0;32m    839\u001b[0m     arr, columns \u001b[38;5;241m=\u001b[39m _list_of_series_to_arrays(data, columns)\n",
            "File \u001b[1;32mc:\\Users\\Diego-pc\\AppData\\Local\\Programs\\Python\\Python312\\Lib\\site-packages\\pandas\\core\\internals\\construction.py:917\u001b[0m, in \u001b[0;36m_list_of_dict_to_arrays\u001b[1;34m(data, columns)\u001b[0m\n\u001b[0;32m    915\u001b[0m     gen \u001b[38;5;241m=\u001b[39m (\u001b[38;5;28mlist\u001b[39m(x\u001b[38;5;241m.\u001b[39mkeys()) \u001b[38;5;28;01mfor\u001b[39;00m x \u001b[38;5;129;01min\u001b[39;00m data)\n\u001b[0;32m    916\u001b[0m     sort \u001b[38;5;241m=\u001b[39m \u001b[38;5;129;01mnot\u001b[39;00m \u001b[38;5;28many\u001b[39m(\u001b[38;5;28misinstance\u001b[39m(d, \u001b[38;5;28mdict\u001b[39m) \u001b[38;5;28;01mfor\u001b[39;00m d \u001b[38;5;129;01min\u001b[39;00m data)\n\u001b[1;32m--> 917\u001b[0m     pre_cols \u001b[38;5;241m=\u001b[39m \u001b[43mlib\u001b[49m\u001b[38;5;241;43m.\u001b[39;49m\u001b[43mfast_unique_multiple_list_gen\u001b[49m\u001b[43m(\u001b[49m\u001b[43mgen\u001b[49m\u001b[43m,\u001b[49m\u001b[43m \u001b[49m\u001b[43msort\u001b[49m\u001b[38;5;241;43m=\u001b[39;49m\u001b[43msort\u001b[49m\u001b[43m)\u001b[49m\n\u001b[0;32m    918\u001b[0m     columns \u001b[38;5;241m=\u001b[39m ensure_index(pre_cols)\n\u001b[0;32m    920\u001b[0m \u001b[38;5;66;03m# assure that they are of the base dict class and not of derived\u001b[39;00m\n\u001b[0;32m    921\u001b[0m \u001b[38;5;66;03m# classes\u001b[39;00m\n",
            "File \u001b[1;32mlib.pyx:367\u001b[0m, in \u001b[0;36mpandas._libs.lib.fast_unique_multiple_list_gen\u001b[1;34m()\u001b[0m\n",
            "File \u001b[1;32mc:\\Users\\Diego-pc\\AppData\\Local\\Programs\\Python\\Python312\\Lib\\site-packages\\pandas\\core\\internals\\construction.py:915\u001b[0m, in \u001b[0;36m<genexpr>\u001b[1;34m(.0)\u001b[0m\n\u001b[0;32m    895\u001b[0m \u001b[38;5;250m\u001b[39m\u001b[38;5;124;03m\"\"\"\u001b[39;00m\n\u001b[0;32m    896\u001b[0m \u001b[38;5;124;03mConvert list of dicts to numpy arrays\u001b[39;00m\n\u001b[0;32m    897\u001b[0m \n\u001b[1;32m   (...)\u001b[0m\n\u001b[0;32m    912\u001b[0m \u001b[38;5;124;03mcolumns : Index\u001b[39;00m\n\u001b[0;32m    913\u001b[0m \u001b[38;5;124;03m\"\"\"\u001b[39;00m\n\u001b[0;32m    914\u001b[0m \u001b[38;5;28;01mif\u001b[39;00m columns \u001b[38;5;129;01mis\u001b[39;00m \u001b[38;5;28;01mNone\u001b[39;00m:\n\u001b[1;32m--> 915\u001b[0m     gen \u001b[38;5;241m=\u001b[39m (\u001b[38;5;28mlist\u001b[39m(\u001b[43mx\u001b[49m\u001b[38;5;241;43m.\u001b[39;49m\u001b[43mkeys\u001b[49m()) \u001b[38;5;28;01mfor\u001b[39;00m x \u001b[38;5;129;01min\u001b[39;00m data)\n\u001b[0;32m    916\u001b[0m     sort \u001b[38;5;241m=\u001b[39m \u001b[38;5;129;01mnot\u001b[39;00m \u001b[38;5;28many\u001b[39m(\u001b[38;5;28misinstance\u001b[39m(d, \u001b[38;5;28mdict\u001b[39m) \u001b[38;5;28;01mfor\u001b[39;00m d \u001b[38;5;129;01min\u001b[39;00m data)\n\u001b[0;32m    917\u001b[0m     pre_cols \u001b[38;5;241m=\u001b[39m lib\u001b[38;5;241m.\u001b[39mfast_unique_multiple_list_gen(gen, sort\u001b[38;5;241m=\u001b[39msort)\n",
            "\u001b[1;31mAttributeError\u001b[0m: 'str' object has no attribute 'keys'"
          ]
        }
      ],
      "source": [
        "import pandas as pd\n",
        "df = pd.DataFrame(hist)\n",
        "df.plot(grid=True)\n",
        "plt.show()"
      ]
    },
    {
      "cell_type": "code",
      "execution_count": 30,
      "metadata": {
        "id": "I8daUf439ulg"
      },
      "outputs": [],
      "source": [
        "import torchvision"
      ]
    },
    {
      "cell_type": "code",
      "execution_count": 31,
      "metadata": {
        "colab": {
          "base_uri": "https://localhost:8080/"
        },
        "id": "3ydYXt7_9wBR",
        "outputId": "e582c7a1-30e3-4e58-bed6-40848be0aa88"
      },
      "outputs": [
        {
          "name": "stderr",
          "output_type": "stream",
          "text": [
            "c:\\Users\\Diego-pc\\AppData\\Local\\Programs\\Python\\Python312\\Lib\\site-packages\\torchvision\\models\\_utils.py:208: UserWarning: The parameter 'pretrained' is deprecated since 0.13 and may be removed in the future, please use 'weights' instead.\n",
            "  warnings.warn(\n",
            "c:\\Users\\Diego-pc\\AppData\\Local\\Programs\\Python\\Python312\\Lib\\site-packages\\torchvision\\models\\_utils.py:223: UserWarning: Arguments other than a weight enum or `None` for 'weights' are deprecated since 0.13 and may be removed in the future. The current behavior is equivalent to passing `weights=ResNet18_Weights.IMAGENET1K_V1`. You can also use `weights=ResNet18_Weights.DEFAULT` to get the most up-to-date weights.\n",
            "  warnings.warn(msg)\n",
            "Downloading: \"https://download.pytorch.org/models/resnet18-f37072fd.pth\" to C:\\Users\\Diego-pc/.cache\\torch\\hub\\checkpoints\\resnet18-f37072fd.pth\n",
            "100%|██████████| 44.7M/44.7M [00:07<00:00, 6.53MB/s]\n"
          ]
        },
        {
          "data": {
            "text/plain": [
              "ResNet(\n",
              "  (conv1): Conv2d(3, 64, kernel_size=(7, 7), stride=(2, 2), padding=(3, 3), bias=False)\n",
              "  (bn1): BatchNorm2d(64, eps=1e-05, momentum=0.1, affine=True, track_running_stats=True)\n",
              "  (relu): ReLU(inplace=True)\n",
              "  (maxpool): MaxPool2d(kernel_size=3, stride=2, padding=1, dilation=1, ceil_mode=False)\n",
              "  (layer1): Sequential(\n",
              "    (0): BasicBlock(\n",
              "      (conv1): Conv2d(64, 64, kernel_size=(3, 3), stride=(1, 1), padding=(1, 1), bias=False)\n",
              "      (bn1): BatchNorm2d(64, eps=1e-05, momentum=0.1, affine=True, track_running_stats=True)\n",
              "      (relu): ReLU(inplace=True)\n",
              "      (conv2): Conv2d(64, 64, kernel_size=(3, 3), stride=(1, 1), padding=(1, 1), bias=False)\n",
              "      (bn2): BatchNorm2d(64, eps=1e-05, momentum=0.1, affine=True, track_running_stats=True)\n",
              "    )\n",
              "    (1): BasicBlock(\n",
              "      (conv1): Conv2d(64, 64, kernel_size=(3, 3), stride=(1, 1), padding=(1, 1), bias=False)\n",
              "      (bn1): BatchNorm2d(64, eps=1e-05, momentum=0.1, affine=True, track_running_stats=True)\n",
              "      (relu): ReLU(inplace=True)\n",
              "      (conv2): Conv2d(64, 64, kernel_size=(3, 3), stride=(1, 1), padding=(1, 1), bias=False)\n",
              "      (bn2): BatchNorm2d(64, eps=1e-05, momentum=0.1, affine=True, track_running_stats=True)\n",
              "    )\n",
              "  )\n",
              "  (layer2): Sequential(\n",
              "    (0): BasicBlock(\n",
              "      (conv1): Conv2d(64, 128, kernel_size=(3, 3), stride=(2, 2), padding=(1, 1), bias=False)\n",
              "      (bn1): BatchNorm2d(128, eps=1e-05, momentum=0.1, affine=True, track_running_stats=True)\n",
              "      (relu): ReLU(inplace=True)\n",
              "      (conv2): Conv2d(128, 128, kernel_size=(3, 3), stride=(1, 1), padding=(1, 1), bias=False)\n",
              "      (bn2): BatchNorm2d(128, eps=1e-05, momentum=0.1, affine=True, track_running_stats=True)\n",
              "      (downsample): Sequential(\n",
              "        (0): Conv2d(64, 128, kernel_size=(1, 1), stride=(2, 2), bias=False)\n",
              "        (1): BatchNorm2d(128, eps=1e-05, momentum=0.1, affine=True, track_running_stats=True)\n",
              "      )\n",
              "    )\n",
              "    (1): BasicBlock(\n",
              "      (conv1): Conv2d(128, 128, kernel_size=(3, 3), stride=(1, 1), padding=(1, 1), bias=False)\n",
              "      (bn1): BatchNorm2d(128, eps=1e-05, momentum=0.1, affine=True, track_running_stats=True)\n",
              "      (relu): ReLU(inplace=True)\n",
              "      (conv2): Conv2d(128, 128, kernel_size=(3, 3), stride=(1, 1), padding=(1, 1), bias=False)\n",
              "      (bn2): BatchNorm2d(128, eps=1e-05, momentum=0.1, affine=True, track_running_stats=True)\n",
              "    )\n",
              "  )\n",
              "  (layer3): Sequential(\n",
              "    (0): BasicBlock(\n",
              "      (conv1): Conv2d(128, 256, kernel_size=(3, 3), stride=(2, 2), padding=(1, 1), bias=False)\n",
              "      (bn1): BatchNorm2d(256, eps=1e-05, momentum=0.1, affine=True, track_running_stats=True)\n",
              "      (relu): ReLU(inplace=True)\n",
              "      (conv2): Conv2d(256, 256, kernel_size=(3, 3), stride=(1, 1), padding=(1, 1), bias=False)\n",
              "      (bn2): BatchNorm2d(256, eps=1e-05, momentum=0.1, affine=True, track_running_stats=True)\n",
              "      (downsample): Sequential(\n",
              "        (0): Conv2d(128, 256, kernel_size=(1, 1), stride=(2, 2), bias=False)\n",
              "        (1): BatchNorm2d(256, eps=1e-05, momentum=0.1, affine=True, track_running_stats=True)\n",
              "      )\n",
              "    )\n",
              "    (1): BasicBlock(\n",
              "      (conv1): Conv2d(256, 256, kernel_size=(3, 3), stride=(1, 1), padding=(1, 1), bias=False)\n",
              "      (bn1): BatchNorm2d(256, eps=1e-05, momentum=0.1, affine=True, track_running_stats=True)\n",
              "      (relu): ReLU(inplace=True)\n",
              "      (conv2): Conv2d(256, 256, kernel_size=(3, 3), stride=(1, 1), padding=(1, 1), bias=False)\n",
              "      (bn2): BatchNorm2d(256, eps=1e-05, momentum=0.1, affine=True, track_running_stats=True)\n",
              "    )\n",
              "  )\n",
              "  (layer4): Sequential(\n",
              "    (0): BasicBlock(\n",
              "      (conv1): Conv2d(256, 512, kernel_size=(3, 3), stride=(2, 2), padding=(1, 1), bias=False)\n",
              "      (bn1): BatchNorm2d(512, eps=1e-05, momentum=0.1, affine=True, track_running_stats=True)\n",
              "      (relu): ReLU(inplace=True)\n",
              "      (conv2): Conv2d(512, 512, kernel_size=(3, 3), stride=(1, 1), padding=(1, 1), bias=False)\n",
              "      (bn2): BatchNorm2d(512, eps=1e-05, momentum=0.1, affine=True, track_running_stats=True)\n",
              "      (downsample): Sequential(\n",
              "        (0): Conv2d(256, 512, kernel_size=(1, 1), stride=(2, 2), bias=False)\n",
              "        (1): BatchNorm2d(512, eps=1e-05, momentum=0.1, affine=True, track_running_stats=True)\n",
              "      )\n",
              "    )\n",
              "    (1): BasicBlock(\n",
              "      (conv1): Conv2d(512, 512, kernel_size=(3, 3), stride=(1, 1), padding=(1, 1), bias=False)\n",
              "      (bn1): BatchNorm2d(512, eps=1e-05, momentum=0.1, affine=True, track_running_stats=True)\n",
              "      (relu): ReLU(inplace=True)\n",
              "      (conv2): Conv2d(512, 512, kernel_size=(3, 3), stride=(1, 1), padding=(1, 1), bias=False)\n",
              "      (bn2): BatchNorm2d(512, eps=1e-05, momentum=0.1, affine=True, track_running_stats=True)\n",
              "    )\n",
              "  )\n",
              "  (avgpool): AdaptiveAvgPool2d(output_size=(1, 1))\n",
              "  (fc): Linear(in_features=512, out_features=1000, bias=True)\n",
              ")"
            ]
          },
          "execution_count": 31,
          "metadata": {},
          "output_type": "execute_result"
        }
      ],
      "source": [
        "encoder = torchvision.models.resnet18(pretrained=True)\n",
        "encoder"
      ]
    },
    {
      "cell_type": "code",
      "execution_count": 32,
      "metadata": {
        "id": "iCBjVjLp91Me"
      },
      "outputs": [],
      "source": [
        "class out_conv(torch.nn.Module):\n",
        "    def __init__(self, ci, co, coo):\n",
        "        super(out_conv, self).__init__()\n",
        "        self.upsample = torch.nn.ConvTranspose2d(ci, co, 2, stride=2)\n",
        "        self.conv = conv3x3_bn(ci, co)\n",
        "        self.final = torch.nn.Conv2d(co, coo, 1)\n",
        "\n",
        "    def forward(self, x1, x2):\n",
        "        x1 = self.upsample(x1)\n",
        "        diffX = x2.size()[2] - x1.size()[2]\n",
        "        diffY = x2.size()[3] - x1.size()[3]\n",
        "        x1 = F.pad(x1, (diffX, 0, diffY, 0))\n",
        "        x = self.conv(x1)\n",
        "        x = self.final(x)\n",
        "        return x\n",
        "\n",
        "class UNetResnet(torch.nn.Module):\n",
        "    def __init__(self, n_classes=9, in_ch=3):\n",
        "        super().__init__()\n",
        "\n",
        "        self.encoder = torchvision.models.resnet18(pretrained=True)\n",
        "        if in_ch != 3:\n",
        "          self.encoder.conv1 = torch.nn.Conv2d(in_ch, 64, kernel_size=7, stride=2, padding=3, bias=False)\n",
        "\n",
        "        self.deconv1 = deconv(512,256)\n",
        "        self.deconv2 = deconv(256,128)\n",
        "        self.deconv3 = deconv(128,64)\n",
        "        self.out = out_conv(64, 64, n_classes)\n",
        "\n",
        "    def forward(self, x):\n",
        "        x_in = torch.tensor(x.clone())\n",
        "        x = self.encoder.relu(self.encoder.bn1(self.encoder.conv1(x)))\n",
        "        x1 = self.encoder.layer1(x)\n",
        "        x2 = self.encoder.layer2(x1)\n",
        "        x3 = self.encoder.layer3(x2)\n",
        "        x = self.encoder.layer4(x3)\n",
        "        x = self.deconv1(x, x3)\n",
        "        x = self.deconv2(x, x2)\n",
        "        x = self.deconv3(x, x1)\n",
        "        x = self.out(x, x_in)\n",
        "        return x"
      ]
    },
    {
      "cell_type": "code",
      "execution_count": 33,
      "metadata": {
        "colab": {
          "base_uri": "https://localhost:8080/"
        },
        "id": "lPC9mvft93KI",
        "outputId": "a504f0a2-7a11-4ce6-bc3a-cd8cbe7fe57c"
      },
      "outputs": [
        {
          "name": "stderr",
          "output_type": "stream",
          "text": [
            "C:\\Users\\Diego-pc\\AppData\\Local\\Temp\\ipykernel_23048\\952178036.py:31: UserWarning: To copy construct from a tensor, it is recommended to use sourceTensor.clone().detach() or sourceTensor.clone().detach().requires_grad_(True), rather than torch.tensor(sourceTensor).\n",
            "  x_in = torch.tensor(x.clone())\n"
          ]
        },
        {
          "data": {
            "text/plain": [
              "torch.Size([10, 9, 50, 50])"
            ]
          },
          "execution_count": 33,
          "metadata": {},
          "output_type": "execute_result"
        }
      ],
      "source": [
        "model = UNetResnet()\n",
        "output = model(torch.randn((10,3,50,50)))\n",
        "output.shape"
      ]
    },
    {
      "cell_type": "code",
      "execution_count": 34,
      "metadata": {
        "colab": {
          "base_uri": "https://localhost:8080/"
        },
        "id": "9W4lVmhW9_tB",
        "outputId": "cb1fee08-76d5-4c04-8110-793fcc83ec18"
      },
      "outputs": [
        {
          "name": "stderr",
          "output_type": "stream",
          "text": [
            "  0%|          | 0/375 [00:00<?, ?it/s]C:\\Users\\Diego-pc\\AppData\\Local\\Temp\\ipykernel_23048\\952178036.py:31: UserWarning: To copy construct from a tensor, it is recommended to use sourceTensor.clone().detach() or sourceTensor.clone().detach().requires_grad_(True), rather than torch.tensor(sourceTensor).\n",
            "  x_in = torch.tensor(x.clone())\n",
            "loss 0.22261 iou 0.92146: 100%|██████████| 375/375 [00:16<00:00, 22.62it/s]\n",
            "test_loss 0.07743 test_iou 0.98132: 100%|██████████| 63/63 [00:02<00:00, 26.22it/s]\n"
          ]
        },
        {
          "name": "stdout",
          "output_type": "stream",
          "text": [
            "\n",
            "Epoch 1/15 loss 0.22261 iou 0.92146 test_loss 0.07743 test_iou 0.98132\n"
          ]
        },
        {
          "name": "stderr",
          "output_type": "stream",
          "text": [
            "loss 0.04868 iou 0.98364: 100%|██████████| 375/375 [00:16<00:00, 23.01it/s]\n",
            "test_loss 0.03887 test_iou 0.98159: 100%|██████████| 63/63 [00:02<00:00, 26.80it/s]\n"
          ]
        },
        {
          "name": "stdout",
          "output_type": "stream",
          "text": [
            "\n",
            "Epoch 2/15 loss 0.04868 iou 0.98364 test_loss 0.03887 test_iou 0.98159\n"
          ]
        },
        {
          "name": "stderr",
          "output_type": "stream",
          "text": [
            "loss 0.02932 iou 0.98535: 100%|██████████| 375/375 [00:15<00:00, 23.56it/s]\n",
            "test_loss 0.02912 test_iou 0.98325: 100%|██████████| 63/63 [00:02<00:00, 27.53it/s]\n"
          ]
        },
        {
          "name": "stdout",
          "output_type": "stream",
          "text": [
            "\n",
            "Epoch 3/15 loss 0.02932 iou 0.98535 test_loss 0.02912 test_iou 0.98325\n"
          ]
        },
        {
          "name": "stderr",
          "output_type": "stream",
          "text": [
            "loss 0.02303 iou 0.98650: 100%|██████████| 375/375 [00:15<00:00, 23.84it/s]\n",
            "test_loss 0.02991 test_iou 0.98225: 100%|██████████| 63/63 [00:02<00:00, 27.51it/s]\n"
          ]
        },
        {
          "name": "stdout",
          "output_type": "stream",
          "text": [
            "\n",
            "Epoch 4/15 loss 0.02303 iou 0.98650 test_loss 0.02991 test_iou 0.98225\n"
          ]
        },
        {
          "name": "stderr",
          "output_type": "stream",
          "text": [
            "loss 0.01968 iou 0.98739: 100%|██████████| 375/375 [00:15<00:00, 23.78it/s]\n",
            "test_loss 0.02735 test_iou 0.98204: 100%|██████████| 63/63 [00:02<00:00, 25.65it/s]\n"
          ]
        },
        {
          "name": "stdout",
          "output_type": "stream",
          "text": [
            "\n",
            "Epoch 5/15 loss 0.01968 iou 0.98739 test_loss 0.02735 test_iou 0.98204\n"
          ]
        },
        {
          "name": "stderr",
          "output_type": "stream",
          "text": [
            "loss 0.01762 iou 0.98815: 100%|██████████| 375/375 [00:16<00:00, 23.39it/s]\n",
            "test_loss 0.02512 test_iou 0.98369: 100%|██████████| 63/63 [00:02<00:00, 27.46it/s]\n"
          ]
        },
        {
          "name": "stdout",
          "output_type": "stream",
          "text": [
            "\n",
            "Epoch 6/15 loss 0.01762 iou 0.98815 test_loss 0.02512 test_iou 0.98369\n"
          ]
        },
        {
          "name": "stderr",
          "output_type": "stream",
          "text": [
            "loss 0.01608 iou 0.98873: 100%|██████████| 375/375 [00:16<00:00, 22.98it/s]\n",
            "test_loss 0.02390 test_iou 0.98420: 100%|██████████| 63/63 [00:02<00:00, 26.19it/s]\n"
          ]
        },
        {
          "name": "stdout",
          "output_type": "stream",
          "text": [
            "\n",
            "Epoch 7/15 loss 0.01608 iou 0.98873 test_loss 0.02390 test_iou 0.98420\n"
          ]
        },
        {
          "name": "stderr",
          "output_type": "stream",
          "text": [
            "loss 0.01457 iou 0.98959: 100%|██████████| 375/375 [00:16<00:00, 22.45it/s]\n",
            "test_loss 0.02437 test_iou 0.98375: 100%|██████████| 63/63 [00:02<00:00, 26.18it/s]\n"
          ]
        },
        {
          "name": "stdout",
          "output_type": "stream",
          "text": [
            "\n",
            "Epoch 8/15 loss 0.01457 iou 0.98959 test_loss 0.02437 test_iou 0.98375\n"
          ]
        },
        {
          "name": "stderr",
          "output_type": "stream",
          "text": [
            "loss 0.01379 iou 0.98993: 100%|██████████| 375/375 [00:16<00:00, 23.00it/s]\n",
            "test_loss 0.02633 test_iou 0.98354: 100%|██████████| 63/63 [00:02<00:00, 27.55it/s]\n"
          ]
        },
        {
          "name": "stdout",
          "output_type": "stream",
          "text": [
            "\n",
            "Epoch 9/15 loss 0.01379 iou 0.98993 test_loss 0.02633 test_iou 0.98354\n"
          ]
        },
        {
          "name": "stderr",
          "output_type": "stream",
          "text": [
            "loss 0.01335 iou 0.99015: 100%|██████████| 375/375 [00:15<00:00, 23.97it/s]\n",
            "test_loss 0.02599 test_iou 0.98345: 100%|██████████| 63/63 [00:02<00:00, 27.53it/s]\n"
          ]
        },
        {
          "name": "stdout",
          "output_type": "stream",
          "text": [
            "\n",
            "Epoch 10/15 loss 0.01335 iou 0.99015 test_loss 0.02599 test_iou 0.98345\n"
          ]
        },
        {
          "name": "stderr",
          "output_type": "stream",
          "text": [
            "loss 0.01291 iou 0.99038: 100%|██████████| 375/375 [00:15<00:00, 23.86it/s]\n",
            "test_loss 0.02763 test_iou 0.98306: 100%|██████████| 63/63 [00:02<00:00, 27.29it/s]\n"
          ]
        },
        {
          "name": "stdout",
          "output_type": "stream",
          "text": [
            "\n",
            "Epoch 11/15 loss 0.01291 iou 0.99038 test_loss 0.02763 test_iou 0.98306\n"
          ]
        },
        {
          "name": "stderr",
          "output_type": "stream",
          "text": [
            "loss 0.01252 iou 0.99059: 100%|██████████| 375/375 [00:15<00:00, 23.82it/s]\n",
            "test_loss 0.02732 test_iou 0.98337: 100%|██████████| 63/63 [00:02<00:00, 26.21it/s]\n"
          ]
        },
        {
          "name": "stdout",
          "output_type": "stream",
          "text": [
            "\n",
            "Epoch 12/15 loss 0.01252 iou 0.99059 test_loss 0.02732 test_iou 0.98337\n"
          ]
        },
        {
          "name": "stderr",
          "output_type": "stream",
          "text": [
            "loss 0.01155 iou 0.99124: 100%|██████████| 375/375 [00:16<00:00, 22.27it/s]\n",
            "test_loss 0.02635 test_iou 0.98367: 100%|██████████| 63/63 [00:02<00:00, 26.38it/s]\n"
          ]
        },
        {
          "name": "stdout",
          "output_type": "stream",
          "text": [
            "\n",
            "Epoch 13/15 loss 0.01155 iou 0.99124 test_loss 0.02635 test_iou 0.98367\n"
          ]
        },
        {
          "name": "stderr",
          "output_type": "stream",
          "text": [
            "loss 0.01078 iou 0.99177: 100%|██████████| 375/375 [00:16<00:00, 23.06it/s]\n",
            "test_loss 0.02990 test_iou 0.98368: 100%|██████████| 63/63 [00:02<00:00, 25.85it/s]\n"
          ]
        },
        {
          "name": "stdout",
          "output_type": "stream",
          "text": [
            "\n",
            "Epoch 14/15 loss 0.01078 iou 0.99177 test_loss 0.02990 test_iou 0.98368\n"
          ]
        },
        {
          "name": "stderr",
          "output_type": "stream",
          "text": [
            "loss 0.01021 iou 0.99217: 100%|██████████| 375/375 [00:16<00:00, 22.46it/s]\n",
            "test_loss 0.02932 test_iou 0.98350: 100%|██████████| 63/63 [00:02<00:00, 25.77it/s]"
          ]
        },
        {
          "name": "stdout",
          "output_type": "stream",
          "text": [
            "\n",
            "Epoch 15/15 loss 0.01021 iou 0.99217 test_loss 0.02932 test_iou 0.98350\n"
          ]
        },
        {
          "name": "stderr",
          "output_type": "stream",
          "text": [
            "\n"
          ]
        }
      ],
      "source": [
        "model = UNetResnet()\n",
        "hist = fit(model, dataloader, epochs=15)"
      ]
    },
    {
      "cell_type": "code",
      "execution_count": 89,
      "metadata": {},
      "outputs": [],
      "source": [
        "torch.save(model.state_dict(), 'modelo_entrenado_perrosSeg.pth')"
      ]
    },
    {
      "cell_type": "code",
      "execution_count": 83,
      "metadata": {},
      "outputs": [
        {
          "name": "stderr",
          "output_type": "stream",
          "text": [
            "C:\\Users\\Diego-pc\\AppData\\Local\\Temp\\ipykernel_23048\\952178036.py:31: UserWarning: To copy construct from a tensor, it is recommended to use sourceTensor.clone().detach() or sourceTensor.clone().detach().requires_grad_(True), rather than torch.tensor(sourceTensor).\n",
            "  x_in = torch.tensor(x.clone())\n"
          ]
        },
        {
          "data": {
            "image/png": "[encoded data removed]",
            "text/plain": [
              "<Figure size 3000x1000 with 3 Axes>"
            ]
          },
          "metadata": {},
          "output_type": "display_data"
        }
      ],
      "source": [
        "import random\n",
        "\n",
        "model.eval()\n",
        "with torch.no_grad():\n",
        "    ix = random.randint(0, len(dataset['test'])-1)\n",
        "    img, mask = dataset['test'][ix]\n",
        "    output = model(img.unsqueeze(0).to(device))[0]\n",
        "    output = output*(-1)\n",
        "    pred_mask = torch.argmax(output, axis=0)\n",
        "\n",
        "fig, (ax1, ax2, ax3) = plt.subplots(1, 3, figsize=(30,10))\n",
        "ax1.imshow(img.permute(1,2,0)/255.)\n",
        "ax2.imshow(torch.argmax(mask*(-1), axis=0))\n",
        "ax3.imshow(pred_mask.squeeze().cpu().numpy())\n",
        "plt.show()"
      ]
    },
    {
      "cell_type": "code",
      "execution_count": 84,
      "metadata": {},
      "outputs": [
        {
          "name": "stderr",
          "output_type": "stream",
          "text": [
            "C:\\Users\\Diego-pc\\AppData\\Local\\Temp\\ipykernel_23048\\952178036.py:31: UserWarning: To copy construct from a tensor, it is recommended to use sourceTensor.clone().detach() or sourceTensor.clone().detach().requires_grad_(True), rather than torch.tensor(sourceTensor).\n",
            "  x_in = torch.tensor(x.clone())\n"
          ]
        },
        {
          "data": {
            "image/png": "[encoded data removed]",
            "text/plain": [
              "<Figure size 2000x1000 with 2 Axes>"
            ]
          },
          "metadata": {},
          "output_type": "display_data"
        }
      ],
      "source": [
        "\n",
        "\n",
        "\n",
        "\n",
        "from PIL import Image\n",
        "import torchvision.transforms as transforms\n",
        "\n",
        "# Abrir la imagen\n",
        "image_path = \"perro_prueba.jpg\"  # Reemplaza con la ruta de tu imagen\n",
        "image = Image.open(image_path)\n",
        "\n",
        "# Redimensionar la imagen a 50x50 píxeles\n",
        "resize = transforms.Resize((50, 50))\n",
        "image = resize(image)\n",
        "\n",
        "# Convertir la imagen a tensor y aplicar transformaciones adicionales si es necesario\n",
        "transform = transforms.Compose([\n",
        "    transforms.ToTensor(),\n",
        "    # Agrega otras transformaciones aquí si es necesario\n",
        "])\n",
        "image = transform(image)\n",
        "\n",
        "# Utilizar el modelo para hacer predicciones\n",
        "model.eval()\n",
        "with torch.no_grad():\n",
        "    input_image = image.unsqueeze(0).to(device)\n",
        "    output = model(input_image)\n",
        "    output = output * (-1)\n",
        "    pred_mask = torch.argmax(output, axis=1).squeeze().cpu().numpy()\n",
        "\n",
        "# Visualizar la imagen y la máscara predictiva\n",
        "fig, (ax1, ax2) = plt.subplots(1, 2, figsize=(20, 10))\n",
        "ax1.imshow(image.permute(1, 2, 0))  # Mostrar la imagen\n",
        "ax1.set_title(\"Imagen de entrada\")\n",
        "ax2.imshow(pred_mask)  # Mostrar la máscara predictiva\n",
        "ax2.set_title(\"Máscara predictiva\")\n",
        "plt.show()"
      ]
    },
    {
      "cell_type": "code",
      "execution_count": 88,
      "metadata": {},
      "outputs": [],
      "source": [
        "import torch.nn.functional as F\n",
        "import torchvision.transforms.functional as TF\n",
        "\n",
        "class UNetResnet(torch.nn.Module):\n",
        "    def __init__(self, n_classes=9, in_ch=3):\n",
        "        super().__init__()\n",
        "\n",
        "        self.encoder = torchvision.models.resnet18(pretrained=True)\n",
        "        if in_ch != 3:\n",
        "            self.encoder.conv1 = torch.nn.Conv2d(in_ch, 64, kernel_size=7, stride=2, padding=3, bias=False)\n",
        "\n",
        "        self.deconv1 = deconv(512,256)\n",
        "        self.deconv2 = deconv(256,128)\n",
        "        self.deconv3 = deconv(128,64)\n",
        "        self.out = out_conv(64, 64, n_classes)\n",
        "        self.dropout = torch.nn.Dropout2d(p=0.5)  # Capa de dropout con probabilidad de 0.5\n",
        "\n",
        "    def forward(self, x):\n",
        "        x_in = torch.tensor(x.clone())\n",
        "        x = self.encoder.relu(self.encoder.bn1(self.encoder.conv1(x)))\n",
        "        x1 = self.encoder.layer1(x)\n",
        "        x2 = self.encoder.layer2(x1)\n",
        "        x3 = self.encoder.layer3(x2)\n",
        "        x = self.encoder.layer4(x3)\n",
        "        x = self.deconv1(x, x3)\n",
        "        x = self.deconv2(x, x2)\n",
        "        x = self.deconv3(x, x1)\n",
        "        x = self.dropout(x)  # Aplicar dropout\n",
        "        x = self.out(x, x_in)\n",
        "        return x\n",
        "\n",
        "    def training_step(self, batch, batch_idx):\n",
        "        x, y = batch\n",
        "        y_hat = self(x)\n",
        "        loss = F.cross_entropy(y_hat, y)\n",
        "        return loss\n",
        "\n",
        "    def validation_step(self, batch, batch_idx):\n",
        "        x, y = batch\n",
        "        y_hat = self(x)\n",
        "        loss = F.cross_entropy(y_hat, y)\n",
        "        pred = torch.argmax(y_hat, dim=1)\n",
        "        acc = (pred == y).float().mean()\n",
        "        return {\"val_loss\": loss, \"val_acc\": acc}\n",
        "\n",
        "    def configure_optimizers(self):\n",
        "        optimizer = torch.optim.Adam(self.parameters(), lr=1e-3)\n",
        "        return optimizer"
      ]
    },
    {
      "cell_type": "code",
      "execution_count": 90,
      "metadata": {},
      "outputs": [
        {
          "name": "stderr",
          "output_type": "stream",
          "text": [
            "c:\\Users\\Diego-pc\\AppData\\Local\\Programs\\Python\\Python312\\Lib\\site-packages\\torchvision\\models\\_utils.py:208: UserWarning: The parameter 'pretrained' is deprecated since 0.13 and may be removed in the future, please use 'weights' instead.\n",
            "  warnings.warn(\n",
            "c:\\Users\\Diego-pc\\AppData\\Local\\Programs\\Python\\Python312\\Lib\\site-packages\\torchvision\\models\\_utils.py:223: UserWarning: Arguments other than a weight enum or `None` for 'weights' are deprecated since 0.13 and may be removed in the future. The current behavior is equivalent to passing `weights=ResNet18_Weights.IMAGENET1K_V1`. You can also use `weights=ResNet18_Weights.DEFAULT` to get the most up-to-date weights.\n",
            "  warnings.warn(msg)\n",
            "  0%|          | 0/375 [00:00<?, ?it/s]C:\\Users\\Diego-pc\\AppData\\Local\\Temp\\ipykernel_23048\\3218699833.py:19: UserWarning: To copy construct from a tensor, it is recommended to use sourceTensor.clone().detach() or sourceTensor.clone().detach().requires_grad_(True), rather than torch.tensor(sourceTensor).\n",
            "  x_in = torch.tensor(x.clone())\n",
            "loss 0.22957 iou 0.89444: 100%|██████████| 375/375 [00:16<00:00, 22.88it/s]\n",
            "test_loss 0.07833 test_iou 0.98162: 100%|██████████| 63/63 [00:02<00:00, 26.68it/s]\n"
          ]
        },
        {
          "name": "stdout",
          "output_type": "stream",
          "text": [
            "\n",
            "Epoch 1/15 loss 0.22957 iou 0.89444 test_loss 0.07833 test_iou 0.98162\n"
          ]
        },
        {
          "name": "stderr",
          "output_type": "stream",
          "text": [
            "loss 0.05191 iou 0.98336: 100%|██████████| 375/375 [00:16<00:00, 22.60it/s]\n",
            "test_loss 0.04006 test_iou 0.98230: 100%|██████████| 63/63 [00:02<00:00, 26.61it/s]\n"
          ]
        },
        {
          "name": "stdout",
          "output_type": "stream",
          "text": [
            "\n",
            "Epoch 2/15 loss 0.05191 iou 0.98336 test_loss 0.04006 test_iou 0.98230\n"
          ]
        },
        {
          "name": "stderr",
          "output_type": "stream",
          "text": [
            "loss 0.03085 iou 0.98502: 100%|██████████| 375/375 [00:16<00:00, 22.69it/s]\n",
            "test_loss 0.03073 test_iou 0.98349: 100%|██████████| 63/63 [00:02<00:00, 27.33it/s]\n"
          ]
        },
        {
          "name": "stdout",
          "output_type": "stream",
          "text": [
            "\n",
            "Epoch 3/15 loss 0.03085 iou 0.98502 test_loss 0.03073 test_iou 0.98349\n"
          ]
        },
        {
          "name": "stderr",
          "output_type": "stream",
          "text": [
            "loss 0.02445 iou 0.98596: 100%|██████████| 375/375 [00:15<00:00, 23.52it/s]\n",
            "test_loss 0.02798 test_iou 0.98304: 100%|██████████| 63/63 [00:02<00:00, 27.60it/s]\n"
          ]
        },
        {
          "name": "stdout",
          "output_type": "stream",
          "text": [
            "\n",
            "Epoch 4/15 loss 0.02445 iou 0.98596 test_loss 0.02798 test_iou 0.98304\n"
          ]
        },
        {
          "name": "stderr",
          "output_type": "stream",
          "text": [
            "loss 0.02066 iou 0.98701: 100%|██████████| 375/375 [00:15<00:00, 23.77it/s]\n",
            "test_loss 0.02807 test_iou 0.98283: 100%|██████████| 63/63 [00:02<00:00, 27.23it/s]\n"
          ]
        },
        {
          "name": "stdout",
          "output_type": "stream",
          "text": [
            "\n",
            "Epoch 5/15 loss 0.02066 iou 0.98701 test_loss 0.02807 test_iou 0.98283\n"
          ]
        },
        {
          "name": "stderr",
          "output_type": "stream",
          "text": [
            "loss 0.01875 iou 0.98756: 100%|██████████| 375/375 [00:15<00:00, 23.50it/s]\n",
            "test_loss 0.02721 test_iou 0.98235: 100%|██████████| 63/63 [00:02<00:00, 27.13it/s]\n"
          ]
        },
        {
          "name": "stdout",
          "output_type": "stream",
          "text": [
            "\n",
            "Epoch 6/15 loss 0.01875 iou 0.98756 test_loss 0.02721 test_iou 0.98235\n"
          ]
        },
        {
          "name": "stderr",
          "output_type": "stream",
          "text": [
            "loss 0.01677 iou 0.98844: 100%|██████████| 375/375 [00:15<00:00, 23.94it/s]\n",
            "test_loss 0.02540 test_iou 0.98423: 100%|██████████| 63/63 [00:02<00:00, 27.66it/s]\n"
          ]
        },
        {
          "name": "stdout",
          "output_type": "stream",
          "text": [
            "\n",
            "Epoch 7/15 loss 0.01677 iou 0.98844 test_loss 0.02540 test_iou 0.98423\n"
          ]
        },
        {
          "name": "stderr",
          "output_type": "stream",
          "text": [
            "loss 0.01580 iou 0.98885: 100%|██████████| 375/375 [00:15<00:00, 23.97it/s]\n",
            "test_loss 0.02645 test_iou 0.98265: 100%|██████████| 63/63 [00:02<00:00, 27.79it/s]\n"
          ]
        },
        {
          "name": "stdout",
          "output_type": "stream",
          "text": [
            "\n",
            "Epoch 8/15 loss 0.01580 iou 0.98885 test_loss 0.02645 test_iou 0.98265\n"
          ]
        },
        {
          "name": "stderr",
          "output_type": "stream",
          "text": [
            "loss 0.01498 iou 0.98924: 100%|██████████| 375/375 [00:15<00:00, 23.89it/s]\n",
            "test_loss 0.02561 test_iou 0.98245: 100%|██████████| 63/63 [00:02<00:00, 27.64it/s]\n"
          ]
        },
        {
          "name": "stdout",
          "output_type": "stream",
          "text": [
            "\n",
            "Epoch 9/15 loss 0.01498 iou 0.98924 test_loss 0.02561 test_iou 0.98245\n"
          ]
        },
        {
          "name": "stderr",
          "output_type": "stream",
          "text": [
            "loss 0.01492 iou 0.98920: 100%|██████████| 375/375 [00:15<00:00, 23.97it/s]\n",
            "test_loss 0.02653 test_iou 0.98328: 100%|██████████| 63/63 [00:02<00:00, 27.54it/s]\n"
          ]
        },
        {
          "name": "stdout",
          "output_type": "stream",
          "text": [
            "\n",
            "Epoch 10/15 loss 0.01492 iou 0.98920 test_loss 0.02653 test_iou 0.98328\n"
          ]
        },
        {
          "name": "stderr",
          "output_type": "stream",
          "text": [
            "loss 0.01356 iou 0.99004: 100%|██████████| 375/375 [00:15<00:00, 24.04it/s]\n",
            "test_loss 0.02708 test_iou 0.98232: 100%|██████████| 63/63 [00:02<00:00, 27.72it/s]\n"
          ]
        },
        {
          "name": "stdout",
          "output_type": "stream",
          "text": [
            "\n",
            "Epoch 11/15 loss 0.01356 iou 0.99004 test_loss 0.02708 test_iou 0.98232\n"
          ]
        },
        {
          "name": "stderr",
          "output_type": "stream",
          "text": [
            "loss 0.01317 iou 0.99024: 100%|██████████| 375/375 [00:15<00:00, 23.92it/s]\n",
            "test_loss 0.02796 test_iou 0.98348: 100%|██████████| 63/63 [00:02<00:00, 27.53it/s]\n"
          ]
        },
        {
          "name": "stdout",
          "output_type": "stream",
          "text": [
            "\n",
            "Epoch 12/15 loss 0.01317 iou 0.99024 test_loss 0.02796 test_iou 0.98348\n"
          ]
        },
        {
          "name": "stderr",
          "output_type": "stream",
          "text": [
            "loss 0.01227 iou 0.99083: 100%|██████████| 375/375 [00:15<00:00, 23.88it/s]\n",
            "test_loss 0.02701 test_iou 0.98371: 100%|██████████| 63/63 [00:02<00:00, 27.47it/s]\n"
          ]
        },
        {
          "name": "stdout",
          "output_type": "stream",
          "text": [
            "\n",
            "Epoch 13/15 loss 0.01227 iou 0.99083 test_loss 0.02701 test_iou 0.98371\n"
          ]
        },
        {
          "name": "stderr",
          "output_type": "stream",
          "text": [
            "loss 0.01183 iou 0.99112: 100%|██████████| 375/375 [00:15<00:00, 24.06it/s]\n",
            "test_loss 0.02656 test_iou 0.98364: 100%|██████████| 63/63 [00:02<00:00, 27.68it/s]\n"
          ]
        },
        {
          "name": "stdout",
          "output_type": "stream",
          "text": [
            "\n",
            "Epoch 14/15 loss 0.01183 iou 0.99112 test_loss 0.02656 test_iou 0.98364\n"
          ]
        },
        {
          "name": "stderr",
          "output_type": "stream",
          "text": [
            "loss 0.01182 iou 0.99109: 100%|██████████| 375/375 [00:15<00:00, 23.99it/s]\n",
            "test_loss 0.02854 test_iou 0.98314: 100%|██████████| 63/63 [00:02<00:00, 27.96it/s]"
          ]
        },
        {
          "name": "stdout",
          "output_type": "stream",
          "text": [
            "\n",
            "Epoch 15/15 loss 0.01182 iou 0.99109 test_loss 0.02854 test_iou 0.98314\n"
          ]
        },
        {
          "name": "stderr",
          "output_type": "stream",
          "text": [
            "\n"
          ]
        }
      ],
      "source": [
        "model = UNetResnet()\n",
        "hist = fit(model, dataloader, epochs=15)"
      ]
    },
    {
      "cell_type": "code",
      "execution_count": 92,
      "metadata": {},
      "outputs": [],
      "source": [
        "torch.save(model.state_dict(), 'modelo_entrenado_perrosSeg2outover.pth')"
      ]
    },
    {
      "cell_type": "code",
      "execution_count": 91,
      "metadata": {},
      "outputs": [
        {
          "name": "stderr",
          "output_type": "stream",
          "text": [
            "C:\\Users\\Diego-pc\\AppData\\Local\\Temp\\ipykernel_23048\\3218699833.py:19: UserWarning: To copy construct from a tensor, it is recommended to use sourceTensor.clone().detach() or sourceTensor.clone().detach().requires_grad_(True), rather than torch.tensor(sourceTensor).\n",
            "  x_in = torch.tensor(x.clone())\n"
          ]
        },
        {
          "data": {
            "image/png": "[encoded data removed]",
            "text/plain": [
              "<Figure size 2000x1000 with 2 Axes>"
            ]
          },
          "metadata": {},
          "output_type": "display_data"
        }
      ],
      "source": [
        "from PIL import Image\n",
        "import torchvision.transforms as transforms\n",
        "\n",
        "# Abrir la imagen\n",
        "image_path = \"perro_prueba.jpg\"  # Reemplaza con la ruta de tu imagen\n",
        "image = Image.open(image_path)\n",
        "\n",
        "# Redimensionar la imagen a 50x50 píxeles\n",
        "resize = transforms.Resize((50, 50))\n",
        "image = resize(image)\n",
        "\n",
        "# Convertir la imagen a tensor y aplicar transformaciones adicionales si es necesario\n",
        "transform = transforms.Compose([\n",
        "    transforms.ToTensor(),\n",
        "    # Agrega otras transformaciones aquí si es necesario\n",
        "])\n",
        "image = transform(image)\n",
        "\n",
        "# Utilizar el modelo para hacer predicciones\n",
        "model.eval()\n",
        "with torch.no_grad():\n",
        "    input_image = image.unsqueeze(0).to(device)\n",
        "    output = model(input_image)\n",
        "    output = output * (-1)\n",
        "    pred_mask = torch.argmax(output, axis=1).squeeze().cpu().numpy()\n",
        "\n",
        "# Visualizar la imagen y la máscara predictiva\n",
        "fig, (ax1, ax2) = plt.subplots(1, 2, figsize=(20, 10))\n",
        "ax1.imshow(image.permute(1, 2, 0))  # Mostrar la imagen\n",
        "ax1.set_title(\"Imagen de entrada\")\n",
        "ax2.imshow(pred_mask)  # Mostrar la máscara predictiva\n",
        "ax2.set_title(\"Máscara predictiva\")\n",
        "plt.show()"
      ]
    }
  ],
  "metadata": {
    "accelerator": "GPU",
    "colab": {
      "gpuType": "T4",
      "provenance": []
    },
    "kernelspec": {
      "display_name": "Python 3",
      "name": "python3"
    },
    "language_info": {
      "codemirror_mode": {
        "name": "ipython",
        "version": 3
      },
      "file_extension": ".py",
      "mimetype": "text/x-python",
      "name": "python",
      "nbconvert_exporter": "python",
      "pygments_lexer": "ipython3",
      "version": "3.12.0"
    }
  },
  "nbformat": 4,
  "nbformat_minor": 0
}
